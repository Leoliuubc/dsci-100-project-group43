{
 "cells": [
  {
   "cell_type": "markdown",
   "id": "3269dc97-c384-436c-bc23-759b1a48349f",
   "metadata": {},
   "source": [
    "# Prediction on Tax Fraud"
   ]
  },
  {
   "cell_type": "markdown",
   "id": "f53657a0-24da-4a49-bab8-149578e0e7de",
   "metadata": {},
   "source": [
    "## Introduction:\n",
    "\n",
    "In the audit field, identifying fraudulent companies is a key task in ensuring financial transparency and protecting stakeholder interests. One way to help auditors in this process is to develop a classification model that predicts the likelihood of corporate fraud based on current and historical risk factors. However, according to the experiment of Chang and his colleagues, audit risk models are considered to be theoretically ideal conceptual models. Previous audit risk models have been criticized as having low practical value because of the difficulty in quantifying risk factors and our inability to fully express their meaning using precise numbers or terms. (S.Chang et al,2008) The model is designed to automate the detection process and provide auditors with valuable insights to guide their decisions.\n",
    "\n",
    "In fact, there are many other human factors that can affect audit risk. For example, from a management perspective, the client's management may exert influence on the auditor, according to Porcuna-Enguix et al. In addition, audit risk assessment implies that the auditor must ask questions of parties such as management. (Porcuna-Enguix et al,2021)\n",
    "\n",
    "The project is conducted to help auditors identify companies that are predicted to be fraudulent by creating a classification model that can predict the presence of corporate fraud based on past risk factors. The data was obtained from one year of non-confidential data from companies collected by an Indian audit office from 2015 to 2016. And this research can be applied to many industries such as industry and agriculture. In addition, the study is authentic and multi-faceted: the combination of data in the dataset takes into account multiple aspects such as audit reports, environmental status reports, persistent problem reports, etc. "
   ]
  },
  {
   "cell_type": "markdown",
   "id": "358b53ce-51b8-4419-8450-60cba087ce2a",
   "metadata": {
    "tags": []
   },
   "source": [
    "## Method\n",
    "\n",
    "In the original dataset, there are 27 different variables. This study primarily focuses on variables related to risk, namely RiskA-F, Inherent Risk, Control Risk, Detection Risk, Audit Risk, and Risk. The variable \"Risk\" consists entirely of 0s and 1s, serving as a categorical variable. A value of 0 indicates no risk or low risk, while 1 represents high risk. The three risks, Inherent Risk, Control Risk, and Detection Risk, are integral components of Audit Risk and have already been utilized in the calculation of Audit Risk. Therefore, this study excludes these redundant columns when establishing the classification model.\n",
    "\n",
    "Firstly, the remaining risk variables, RiskA-F, are standardized, and the attribute of Risk is transformed into a factor to facilitate subsequent operations. To ensure the training dataset is sufficiently balanced, this study allocates 75% of the data as the training dataset and 25% as the testing dataset. Furthermore, a histogram is used, with Audit Risk as the x-axis, to visually divide the image into two graphs based on the values of Risk: Risk=0 and Risk=1, thus enabling visualization of the testing data.\n",
    "\n",
    "Next, this study will create a classification model based on the training dataset:\n",
    "\n",
    "1. Create a recipe object named \"training_recipe.\" The variable \"Risk\" is the target variable, while the other variables in the dataset are predictor variables. The training data used for this recipe is \"risk_data_train.\"\n",
    "\n",
    "2. Create a V-Fold cross-validation object named \"training_vfold.\" The data used for cross-validation is \"risk_data_train,\" and the cross-validation is performed with 5 folds (v = 5). The parameter \"strata = Risk\" ensures that the cross-validation stratification is based on the \"Risk\" variable.\n",
    "\n",
    "3. Configure the k-nearest neighbors model with the weight function set to \"rectangular\" and the number of neighbors set to dynamically adjust (neighbors = tune()). The model is specified to use the \"kknn\" engine and the mode is set to \"classification.\"\n",
    "\n",
    "4. Create a workflow object named \"cross_val\" to combine the recipe and model. The workflow is constructed by adding the training recipe, configuring the k-nearest neighbors model, and then tuning the hyperparameters of the model. The tuning is performed through a grid search using the \"tune_grid\" function. The parameter \"resamples\" specifies the cross-validation folds (training_vfold), and the parameter \"grid\" specifies the search range of the \"neighbors\" parameter from 1 to 40. The results are collected using \"collect_metrics()\".\n",
    "\n",
    "5. Create an object named \"accuracies\" by filtering the cross-validation results (cross_val) to include only the accuracy metric.\n",
    "\n",
    "6. Create a line plot named \"cross_val_plot\". The plot represents the average accuracy (y-axis) at different neighbor values (x-axis). The plot includes points and lines to display the trend. The labels for the x-axis and y-axis are set as \"Neighbors\" and \"Accuracy Estimate\" respectively. The x-axis scale is set to display breakpoints at intervals of 5.\n"
   ]
  },
  {
   "cell_type": "markdown",
   "id": "fe9c2b09-f5dd-44cc-8ea3-ad5382369d7a",
   "metadata": {},
   "source": [
    "## Expected outcomes and significance:\n",
    "\n",
    "\n",
    "Our expected outcome is to find the relationship between risk factors and fraud and to develop a classification model that can predict potential fraudulent companies based on different risk factors.\n",
    "\n",
    "This model will help the audit industry to predict fraudulent companies with high accuracy, improve audit efficiency, automate the audit process to save personnel time and effort, and serve as an early warning system for audits to minimize losses to stakeholders.\n",
    "\n",
    "### Furthur Question:"
   ]
  },
  {
   "cell_type": "code",
   "execution_count": 1,
   "id": "b1eca379-2f46-49ef-8a55-5d4c8f1ad368",
   "metadata": {},
   "outputs": [
    {
     "name": "stderr",
     "output_type": "stream",
     "text": [
      "── \u001b[1mAttaching packages\u001b[22m ─────────────────────────────────────── tidyverse 1.3.1 ──\n",
      "\n",
      "\u001b[32m✔\u001b[39m \u001b[34mggplot2\u001b[39m 3.3.6     \u001b[32m✔\u001b[39m \u001b[34mpurrr  \u001b[39m 0.3.4\n",
      "\u001b[32m✔\u001b[39m \u001b[34mtibble \u001b[39m 3.1.7     \u001b[32m✔\u001b[39m \u001b[34mdplyr  \u001b[39m 1.0.9\n",
      "\u001b[32m✔\u001b[39m \u001b[34mtidyr  \u001b[39m 1.2.0     \u001b[32m✔\u001b[39m \u001b[34mstringr\u001b[39m 1.4.0\n",
      "\u001b[32m✔\u001b[39m \u001b[34mreadr  \u001b[39m 2.1.2     \u001b[32m✔\u001b[39m \u001b[34mforcats\u001b[39m 0.5.1\n",
      "\n",
      "── \u001b[1mConflicts\u001b[22m ────────────────────────────────────────── tidyverse_conflicts() ──\n",
      "\u001b[31m✖\u001b[39m \u001b[34mdplyr\u001b[39m::\u001b[32mfilter()\u001b[39m masks \u001b[34mstats\u001b[39m::filter()\n",
      "\u001b[31m✖\u001b[39m \u001b[34mdplyr\u001b[39m::\u001b[32mlag()\u001b[39m    masks \u001b[34mstats\u001b[39m::lag()\n",
      "\n",
      "── \u001b[1mAttaching packages\u001b[22m ────────────────────────────────────── tidymodels 1.0.0 ──\n",
      "\n",
      "\u001b[32m✔\u001b[39m \u001b[34mbroom       \u001b[39m 1.0.0     \u001b[32m✔\u001b[39m \u001b[34mrsample     \u001b[39m 1.0.0\n",
      "\u001b[32m✔\u001b[39m \u001b[34mdials       \u001b[39m 1.0.0     \u001b[32m✔\u001b[39m \u001b[34mtune        \u001b[39m 1.0.0\n",
      "\u001b[32m✔\u001b[39m \u001b[34minfer       \u001b[39m 1.0.2     \u001b[32m✔\u001b[39m \u001b[34mworkflows   \u001b[39m 1.0.0\n",
      "\u001b[32m✔\u001b[39m \u001b[34mmodeldata   \u001b[39m 1.0.0     \u001b[32m✔\u001b[39m \u001b[34mworkflowsets\u001b[39m 1.0.0\n",
      "\u001b[32m✔\u001b[39m \u001b[34mparsnip     \u001b[39m 1.0.0     \u001b[32m✔\u001b[39m \u001b[34myardstick   \u001b[39m 1.0.0\n",
      "\u001b[32m✔\u001b[39m \u001b[34mrecipes     \u001b[39m 1.0.1     \n",
      "\n",
      "── \u001b[1mConflicts\u001b[22m ───────────────────────────────────────── tidymodels_conflicts() ──\n",
      "\u001b[31m✖\u001b[39m \u001b[34mscales\u001b[39m::\u001b[32mdiscard()\u001b[39m masks \u001b[34mpurrr\u001b[39m::discard()\n",
      "\u001b[31m✖\u001b[39m \u001b[34mdplyr\u001b[39m::\u001b[32mfilter()\u001b[39m   masks \u001b[34mstats\u001b[39m::filter()\n",
      "\u001b[31m✖\u001b[39m \u001b[34mrecipes\u001b[39m::\u001b[32mfixed()\u001b[39m  masks \u001b[34mstringr\u001b[39m::fixed()\n",
      "\u001b[31m✖\u001b[39m \u001b[34mdplyr\u001b[39m::\u001b[32mlag()\u001b[39m      masks \u001b[34mstats\u001b[39m::lag()\n",
      "\u001b[31m✖\u001b[39m \u001b[34myardstick\u001b[39m::\u001b[32mspec()\u001b[39m masks \u001b[34mreadr\u001b[39m::spec()\n",
      "\u001b[31m✖\u001b[39m \u001b[34mrecipes\u001b[39m::\u001b[32mstep()\u001b[39m   masks \u001b[34mstats\u001b[39m::step()\n",
      "\u001b[34m•\u001b[39m Search for functions across packages at \u001b[32mhttps://www.tidymodels.org/find/\u001b[39m\n",
      "\n"
     ]
    }
   ],
   "source": [
    "library(tidyverse)\n",
    "library(repr)\n",
    "library(tidymodels)\n",
    "options(repr.matrix.max.rows = 6)"
   ]
  },
  {
   "cell_type": "markdown",
   "id": "ed0dc1dd-ff47-4d73-a45b-6f57e3d28d7e",
   "metadata": {},
   "source": []
  },
  {
   "cell_type": "code",
   "execution_count": 2,
   "id": "f408dfa9-c93c-496c-8d0e-e21f784c7ea2",
   "metadata": {},
   "outputs": [
    {
     "name": "stderr",
     "output_type": "stream",
     "text": [
      "\u001b[1m\u001b[22mNew names:\n",
      "\u001b[36m•\u001b[39m `Score_B` -> `Score_B...7`\n",
      "\u001b[36m•\u001b[39m `Score_B` -> `Score_B...11`\n",
      "\u001b[1mRows: \u001b[22m\u001b[34m776\u001b[39m \u001b[1mColumns: \u001b[22m\u001b[34m27\u001b[39m\n",
      "\u001b[36m──\u001b[39m \u001b[1mColumn specification\u001b[22m \u001b[36m────────────────────────────────────────────────────────\u001b[39m\n",
      "\u001b[1mDelimiter:\u001b[22m \",\"\n",
      "\u001b[31mchr\u001b[39m  (1): LOCATION_ID\n",
      "\u001b[32mdbl\u001b[39m (26): Sector_score, PARA_A, Score_A, Risk_A, PARA_B, Score_B...7, Risk_B...\n",
      "\n",
      "\u001b[36mℹ\u001b[39m Use `spec()` to retrieve the full column specification for this data.\n",
      "\u001b[36mℹ\u001b[39m Specify the column types or set `show_col_types = FALSE` to quiet this message.\n"
     ]
    },
    {
     "data": {
      "text/html": [
       "<table class=\"dataframe\">\n",
       "<caption>A spec_tbl_df: 776 × 27</caption>\n",
       "<thead>\n",
       "\t<tr><th scope=col>Sector_score</th><th scope=col>LOCATION_ID</th><th scope=col>PARA_A</th><th scope=col>Score_A</th><th scope=col>Risk_A</th><th scope=col>PARA_B</th><th scope=col>Score_B...7</th><th scope=col>Risk_B</th><th scope=col>TOTAL</th><th scope=col>numbers</th><th scope=col>⋯</th><th scope=col>RiSk_E</th><th scope=col>History</th><th scope=col>Prob</th><th scope=col>Risk_F</th><th scope=col>Score</th><th scope=col>Inherent_Risk</th><th scope=col>CONTROL_RISK</th><th scope=col>Detection_Risk</th><th scope=col>Audit_Risk</th><th scope=col>Risk</th></tr>\n",
       "\t<tr><th scope=col>&lt;dbl&gt;</th><th scope=col>&lt;chr&gt;</th><th scope=col>&lt;dbl&gt;</th><th scope=col>&lt;dbl&gt;</th><th scope=col>&lt;dbl&gt;</th><th scope=col>&lt;dbl&gt;</th><th scope=col>&lt;dbl&gt;</th><th scope=col>&lt;dbl&gt;</th><th scope=col>&lt;dbl&gt;</th><th scope=col>&lt;dbl&gt;</th><th scope=col>⋯</th><th scope=col>&lt;dbl&gt;</th><th scope=col>&lt;dbl&gt;</th><th scope=col>&lt;dbl&gt;</th><th scope=col>&lt;dbl&gt;</th><th scope=col>&lt;dbl&gt;</th><th scope=col>&lt;dbl&gt;</th><th scope=col>&lt;dbl&gt;</th><th scope=col>&lt;dbl&gt;</th><th scope=col>&lt;dbl&gt;</th><th scope=col>&lt;dbl&gt;</th></tr>\n",
       "</thead>\n",
       "<tbody>\n",
       "\t<tr><td>3.89</td><td>23</td><td>4.18</td><td>0.6</td><td>2.508</td><td>2.50</td><td>0.2</td><td>0.500</td><td>6.68</td><td>5</td><td>⋯</td><td>0.4</td><td>0</td><td>0.2</td><td>0</td><td>2.4</td><td>8.574</td><td>0.4</td><td>0.5</td><td>1.7148</td><td>1</td></tr>\n",
       "\t<tr><td>3.89</td><td>6 </td><td>0.00</td><td>0.2</td><td>0.000</td><td>4.83</td><td>0.2</td><td>0.966</td><td>4.83</td><td>5</td><td>⋯</td><td>0.4</td><td>0</td><td>0.2</td><td>0</td><td>2.0</td><td>2.554</td><td>0.4</td><td>0.5</td><td>0.5108</td><td>0</td></tr>\n",
       "\t<tr><td>3.89</td><td>6 </td><td>0.51</td><td>0.2</td><td>0.102</td><td>0.23</td><td>0.2</td><td>0.046</td><td>0.74</td><td>5</td><td>⋯</td><td>0.4</td><td>0</td><td>0.2</td><td>0</td><td>2.0</td><td>1.548</td><td>0.4</td><td>0.5</td><td>0.3096</td><td>0</td></tr>\n",
       "\t<tr><td>⋮</td><td>⋮</td><td>⋮</td><td>⋮</td><td>⋮</td><td>⋮</td><td>⋮</td><td>⋮</td><td>⋮</td><td>⋮</td><td>⋱</td><td>⋮</td><td>⋮</td><td>⋮</td><td>⋮</td><td>⋮</td><td>⋮</td><td>⋮</td><td>⋮</td><td>⋮</td><td>⋮</td></tr>\n",
       "\t<tr><td>55.57</td><td>14</td><td>0.24</td><td>0.2</td><td>0.048</td><td>0.04</td><td>0.2</td><td>0.008</td><td>0.28</td><td>5</td><td>⋯</td><td>0.4</td><td>0</td><td>0.2</td><td>0</td><td>2</td><td>1.456</td><td>0.4</td><td>0.5</td><td>0.2912</td><td>0</td></tr>\n",
       "\t<tr><td>55.57</td><td>18</td><td>0.20</td><td>0.2</td><td>0.040</td><td>0.00</td><td>0.2</td><td>0.000</td><td>0.20</td><td>5</td><td>⋯</td><td>0.4</td><td>0</td><td>0.2</td><td>0</td><td>2</td><td>1.440</td><td>0.4</td><td>0.5</td><td>0.2880</td><td>0</td></tr>\n",
       "\t<tr><td>55.57</td><td>15</td><td>0.00</td><td>0.2</td><td>0.000</td><td>0.00</td><td>0.2</td><td>0.000</td><td>0.00</td><td>5</td><td>⋯</td><td>0.4</td><td>0</td><td>0.2</td><td>0</td><td>2</td><td>1.464</td><td>0.4</td><td>0.5</td><td>0.2928</td><td>0</td></tr>\n",
       "</tbody>\n",
       "</table>\n"
      ],
      "text/latex": [
       "A spec\\_tbl\\_df: 776 × 27\n",
       "\\begin{tabular}{lllllllllllllllllllll}\n",
       " Sector\\_score & LOCATION\\_ID & PARA\\_A & Score\\_A & Risk\\_A & PARA\\_B & Score\\_B...7 & Risk\\_B & TOTAL & numbers & ⋯ & RiSk\\_E & History & Prob & Risk\\_F & Score & Inherent\\_Risk & CONTROL\\_RISK & Detection\\_Risk & Audit\\_Risk & Risk\\\\\n",
       " <dbl> & <chr> & <dbl> & <dbl> & <dbl> & <dbl> & <dbl> & <dbl> & <dbl> & <dbl> & ⋯ & <dbl> & <dbl> & <dbl> & <dbl> & <dbl> & <dbl> & <dbl> & <dbl> & <dbl> & <dbl>\\\\\n",
       "\\hline\n",
       "\t 3.89 & 23 & 4.18 & 0.6 & 2.508 & 2.50 & 0.2 & 0.500 & 6.68 & 5 & ⋯ & 0.4 & 0 & 0.2 & 0 & 2.4 & 8.574 & 0.4 & 0.5 & 1.7148 & 1\\\\\n",
       "\t 3.89 & 6  & 0.00 & 0.2 & 0.000 & 4.83 & 0.2 & 0.966 & 4.83 & 5 & ⋯ & 0.4 & 0 & 0.2 & 0 & 2.0 & 2.554 & 0.4 & 0.5 & 0.5108 & 0\\\\\n",
       "\t 3.89 & 6  & 0.51 & 0.2 & 0.102 & 0.23 & 0.2 & 0.046 & 0.74 & 5 & ⋯ & 0.4 & 0 & 0.2 & 0 & 2.0 & 1.548 & 0.4 & 0.5 & 0.3096 & 0\\\\\n",
       "\t ⋮ & ⋮ & ⋮ & ⋮ & ⋮ & ⋮ & ⋮ & ⋮ & ⋮ & ⋮ & ⋱ & ⋮ & ⋮ & ⋮ & ⋮ & ⋮ & ⋮ & ⋮ & ⋮ & ⋮ & ⋮\\\\\n",
       "\t 55.57 & 14 & 0.24 & 0.2 & 0.048 & 0.04 & 0.2 & 0.008 & 0.28 & 5 & ⋯ & 0.4 & 0 & 0.2 & 0 & 2 & 1.456 & 0.4 & 0.5 & 0.2912 & 0\\\\\n",
       "\t 55.57 & 18 & 0.20 & 0.2 & 0.040 & 0.00 & 0.2 & 0.000 & 0.20 & 5 & ⋯ & 0.4 & 0 & 0.2 & 0 & 2 & 1.440 & 0.4 & 0.5 & 0.2880 & 0\\\\\n",
       "\t 55.57 & 15 & 0.00 & 0.2 & 0.000 & 0.00 & 0.2 & 0.000 & 0.00 & 5 & ⋯ & 0.4 & 0 & 0.2 & 0 & 2 & 1.464 & 0.4 & 0.5 & 0.2928 & 0\\\\\n",
       "\\end{tabular}\n"
      ],
      "text/markdown": [
       "\n",
       "A spec_tbl_df: 776 × 27\n",
       "\n",
       "| Sector_score &lt;dbl&gt; | LOCATION_ID &lt;chr&gt; | PARA_A &lt;dbl&gt; | Score_A &lt;dbl&gt; | Risk_A &lt;dbl&gt; | PARA_B &lt;dbl&gt; | Score_B...7 &lt;dbl&gt; | Risk_B &lt;dbl&gt; | TOTAL &lt;dbl&gt; | numbers &lt;dbl&gt; | ⋯ ⋯ | RiSk_E &lt;dbl&gt; | History &lt;dbl&gt; | Prob &lt;dbl&gt; | Risk_F &lt;dbl&gt; | Score &lt;dbl&gt; | Inherent_Risk &lt;dbl&gt; | CONTROL_RISK &lt;dbl&gt; | Detection_Risk &lt;dbl&gt; | Audit_Risk &lt;dbl&gt; | Risk &lt;dbl&gt; |\n",
       "|---|---|---|---|---|---|---|---|---|---|---|---|---|---|---|---|---|---|---|---|---|\n",
       "| 3.89 | 23 | 4.18 | 0.6 | 2.508 | 2.50 | 0.2 | 0.500 | 6.68 | 5 | ⋯ | 0.4 | 0 | 0.2 | 0 | 2.4 | 8.574 | 0.4 | 0.5 | 1.7148 | 1 |\n",
       "| 3.89 | 6  | 0.00 | 0.2 | 0.000 | 4.83 | 0.2 | 0.966 | 4.83 | 5 | ⋯ | 0.4 | 0 | 0.2 | 0 | 2.0 | 2.554 | 0.4 | 0.5 | 0.5108 | 0 |\n",
       "| 3.89 | 6  | 0.51 | 0.2 | 0.102 | 0.23 | 0.2 | 0.046 | 0.74 | 5 | ⋯ | 0.4 | 0 | 0.2 | 0 | 2.0 | 1.548 | 0.4 | 0.5 | 0.3096 | 0 |\n",
       "| ⋮ | ⋮ | ⋮ | ⋮ | ⋮ | ⋮ | ⋮ | ⋮ | ⋮ | ⋮ | ⋱ | ⋮ | ⋮ | ⋮ | ⋮ | ⋮ | ⋮ | ⋮ | ⋮ | ⋮ | ⋮ |\n",
       "| 55.57 | 14 | 0.24 | 0.2 | 0.048 | 0.04 | 0.2 | 0.008 | 0.28 | 5 | ⋯ | 0.4 | 0 | 0.2 | 0 | 2 | 1.456 | 0.4 | 0.5 | 0.2912 | 0 |\n",
       "| 55.57 | 18 | 0.20 | 0.2 | 0.040 | 0.00 | 0.2 | 0.000 | 0.20 | 5 | ⋯ | 0.4 | 0 | 0.2 | 0 | 2 | 1.440 | 0.4 | 0.5 | 0.2880 | 0 |\n",
       "| 55.57 | 15 | 0.00 | 0.2 | 0.000 | 0.00 | 0.2 | 0.000 | 0.00 | 5 | ⋯ | 0.4 | 0 | 0.2 | 0 | 2 | 1.464 | 0.4 | 0.5 | 0.2928 | 0 |\n",
       "\n"
      ],
      "text/plain": [
       "    Sector_score LOCATION_ID PARA_A Score_A Risk_A PARA_B Score_B...7 Risk_B\n",
       "1   3.89         23          4.18   0.6     2.508  2.50   0.2         0.500 \n",
       "2   3.89         6           0.00   0.2     0.000  4.83   0.2         0.966 \n",
       "3   3.89         6           0.51   0.2     0.102  0.23   0.2         0.046 \n",
       "⋮   ⋮            ⋮           ⋮      ⋮       ⋮      ⋮      ⋮           ⋮     \n",
       "774 55.57        14          0.24   0.2     0.048  0.04   0.2         0.008 \n",
       "775 55.57        18          0.20   0.2     0.040  0.00   0.2         0.000 \n",
       "776 55.57        15          0.00   0.2     0.000  0.00   0.2         0.000 \n",
       "    TOTAL numbers ⋯ RiSk_E History Prob Risk_F Score Inherent_Risk CONTROL_RISK\n",
       "1   6.68  5       ⋯ 0.4    0       0.2  0      2.4   8.574         0.4         \n",
       "2   4.83  5       ⋯ 0.4    0       0.2  0      2.0   2.554         0.4         \n",
       "3   0.74  5       ⋯ 0.4    0       0.2  0      2.0   1.548         0.4         \n",
       "⋮   ⋮     ⋮       ⋱ ⋮      ⋮       ⋮    ⋮      ⋮     ⋮             ⋮           \n",
       "774 0.28  5       ⋯ 0.4    0       0.2  0      2     1.456         0.4         \n",
       "775 0.20  5       ⋯ 0.4    0       0.2  0      2     1.440         0.4         \n",
       "776 0.00  5       ⋯ 0.4    0       0.2  0      2     1.464         0.4         \n",
       "    Detection_Risk Audit_Risk Risk\n",
       "1   0.5            1.7148     1   \n",
       "2   0.5            0.5108     0   \n",
       "3   0.5            0.3096     0   \n",
       "⋮   ⋮              ⋮          ⋮   \n",
       "774 0.5            0.2912     0   \n",
       "775 0.5            0.2880     0   \n",
       "776 0.5            0.2928     0   "
      ]
     },
     "metadata": {},
     "output_type": "display_data"
    }
   ],
   "source": [
    "audit_risk <- read_csv(\"https://raw.githubusercontent.com/Leoliuubc/dsci-100-project-group43/main/data/audit_risk.csv\")\n",
    "audit_risk"
   ]
  },
  {
   "cell_type": "code",
   "execution_count": 6,
   "id": "818f7930-ff62-4017-a6d9-82dc1683b723",
   "metadata": {},
   "outputs": [
    {
     "data": {
      "text/html": [
       "<table class=\"dataframe\">\n",
       "<caption>A tibble: 581 × 8</caption>\n",
       "<thead>\n",
       "\t<tr><th scope=col>Risk_A</th><th scope=col>Risk_B</th><th scope=col>Risk_C</th><th scope=col>Risk_D</th><th scope=col>RiSk_E</th><th scope=col>Risk_F</th><th scope=col>Audit_Risk</th><th scope=col>Risk</th></tr>\n",
       "\t<tr><th scope=col>&lt;dbl[,1]&gt;</th><th scope=col>&lt;dbl[,1]&gt;</th><th scope=col>&lt;dbl[,1]&gt;</th><th scope=col>&lt;dbl[,1]&gt;</th><th scope=col>&lt;dbl[,1]&gt;</th><th scope=col>&lt;dbl[,1]&gt;</th><th scope=col>&lt;dbl[,1]&gt;</th><th scope=col>&lt;fct&gt;</th></tr>\n",
       "</thead>\n",
       "<tbody>\n",
       "\t<tr><td>-0.3630426</td><td>-0.2090926</td><td>-0.284628</td><td>-0.2067866</td><td>-0.4101527</td><td>-0.1752846</td><td>-0.1773727</td><td>0</td></tr>\n",
       "\t<tr><td>-0.3926899</td><td>-0.2051022</td><td>-0.284628</td><td>-0.1920258</td><td>-0.4101527</td><td>-0.1752846</td><td>-0.1742280</td><td>0</td></tr>\n",
       "\t<tr><td> 0.3014061</td><td>-0.2040382</td><td>-0.284628</td><td>-0.1971295</td><td>-0.4101527</td><td>-0.1752846</td><td>-0.1627661</td><td>0</td></tr>\n",
       "\t<tr><td>⋮</td><td>⋮</td><td>⋮</td><td>⋮</td><td>⋮</td><td>⋮</td><td>⋮</td><td>⋮</td></tr>\n",
       "\t<tr><td>-0.3926899</td><td>-0.21062217</td><td>-0.284628</td><td>-0.20678655</td><td> 2.3455051</td><td>-0.1752846</td><td>-0.1512422</td><td>1</td></tr>\n",
       "\t<tr><td>-0.3926899</td><td>-0.04123348</td><td>-0.284628</td><td>-0.20463498</td><td>-0.4101527</td><td>-0.1752846</td><td>-0.1513457</td><td>1</td></tr>\n",
       "\t<tr><td>-0.2694501</td><td>-0.18934052</td><td>-0.284628</td><td> 0.03473947</td><td>-0.4101527</td><td>-0.1752846</td><td>-0.1227015</td><td>1</td></tr>\n",
       "</tbody>\n",
       "</table>\n"
      ],
      "text/latex": [
       "A tibble: 581 × 8\n",
       "\\begin{tabular}{llllllll}\n",
       " Risk\\_A & Risk\\_B & Risk\\_C & Risk\\_D & RiSk\\_E & Risk\\_F & Audit\\_Risk & Risk\\\\\n",
       " <dbl{[},1{]}> & <dbl{[},1{]}> & <dbl{[},1{]}> & <dbl{[},1{]}> & <dbl{[},1{]}> & <dbl{[},1{]}> & <dbl{[},1{]}> & <fct>\\\\\n",
       "\\hline\n",
       "\t -0.3630426 & -0.2090926 & -0.284628 & -0.2067866 & -0.4101527 & -0.1752846 & -0.1773727 & 0\\\\\n",
       "\t -0.3926899 & -0.2051022 & -0.284628 & -0.1920258 & -0.4101527 & -0.1752846 & -0.1742280 & 0\\\\\n",
       "\t  0.3014061 & -0.2040382 & -0.284628 & -0.1971295 & -0.4101527 & -0.1752846 & -0.1627661 & 0\\\\\n",
       "\t ⋮ & ⋮ & ⋮ & ⋮ & ⋮ & ⋮ & ⋮ & ⋮\\\\\n",
       "\t -0.3926899 & -0.21062217 & -0.284628 & -0.20678655 &  2.3455051 & -0.1752846 & -0.1512422 & 1\\\\\n",
       "\t -0.3926899 & -0.04123348 & -0.284628 & -0.20463498 & -0.4101527 & -0.1752846 & -0.1513457 & 1\\\\\n",
       "\t -0.2694501 & -0.18934052 & -0.284628 &  0.03473947 & -0.4101527 & -0.1752846 & -0.1227015 & 1\\\\\n",
       "\\end{tabular}\n"
      ],
      "text/markdown": [
       "\n",
       "A tibble: 581 × 8\n",
       "\n",
       "| Risk_A &lt;dbl[,1]&gt; | Risk_B &lt;dbl[,1]&gt; | Risk_C &lt;dbl[,1]&gt; | Risk_D &lt;dbl[,1]&gt; | RiSk_E &lt;dbl[,1]&gt; | Risk_F &lt;dbl[,1]&gt; | Audit_Risk &lt;dbl[,1]&gt; | Risk &lt;fct&gt; |\n",
       "|---|---|---|---|---|---|---|---|\n",
       "| -0.3630426 | -0.2090926 | -0.284628 | -0.2067866 | -0.4101527 | -0.1752846 | -0.1773727 | 0 |\n",
       "| -0.3926899 | -0.2051022 | -0.284628 | -0.1920258 | -0.4101527 | -0.1752846 | -0.1742280 | 0 |\n",
       "|  0.3014061 | -0.2040382 | -0.284628 | -0.1971295 | -0.4101527 | -0.1752846 | -0.1627661 | 0 |\n",
       "| ⋮ | ⋮ | ⋮ | ⋮ | ⋮ | ⋮ | ⋮ | ⋮ |\n",
       "| -0.3926899 | -0.21062217 | -0.284628 | -0.20678655 |  2.3455051 | -0.1752846 | -0.1512422 | 1 |\n",
       "| -0.3926899 | -0.04123348 | -0.284628 | -0.20463498 | -0.4101527 | -0.1752846 | -0.1513457 | 1 |\n",
       "| -0.2694501 | -0.18934052 | -0.284628 |  0.03473947 | -0.4101527 | -0.1752846 | -0.1227015 | 1 |\n",
       "\n"
      ],
      "text/plain": [
       "    Risk_A     Risk_B      Risk_C    Risk_D      RiSk_E     Risk_F    \n",
       "1   -0.3630426 -0.2090926  -0.284628 -0.2067866  -0.4101527 -0.1752846\n",
       "2   -0.3926899 -0.2051022  -0.284628 -0.1920258  -0.4101527 -0.1752846\n",
       "3    0.3014061 -0.2040382  -0.284628 -0.1971295  -0.4101527 -0.1752846\n",
       "⋮   ⋮          ⋮           ⋮         ⋮           ⋮          ⋮         \n",
       "579 -0.3926899 -0.21062217 -0.284628 -0.20678655  2.3455051 -0.1752846\n",
       "580 -0.3926899 -0.04123348 -0.284628 -0.20463498 -0.4101527 -0.1752846\n",
       "581 -0.2694501 -0.18934052 -0.284628  0.03473947 -0.4101527 -0.1752846\n",
       "    Audit_Risk Risk\n",
       "1   -0.1773727 0   \n",
       "2   -0.1742280 0   \n",
       "3   -0.1627661 0   \n",
       "⋮   ⋮          ⋮   \n",
       "579 -0.1512422 1   \n",
       "580 -0.1513457 1   \n",
       "581 -0.1227015 1   "
      ]
     },
     "metadata": {},
     "output_type": "display_data"
    },
    {
     "data": {
      "text/html": [
       "<table class=\"dataframe\">\n",
       "<caption>A tibble: 195 × 8</caption>\n",
       "<thead>\n",
       "\t<tr><th scope=col>Risk_A</th><th scope=col>Risk_B</th><th scope=col>Risk_C</th><th scope=col>Risk_D</th><th scope=col>RiSk_E</th><th scope=col>Risk_F</th><th scope=col>Audit_Risk</th><th scope=col>Risk</th></tr>\n",
       "\t<tr><th scope=col>&lt;dbl[,1]&gt;</th><th scope=col>&lt;dbl[,1]&gt;</th><th scope=col>&lt;dbl[,1]&gt;</th><th scope=col>&lt;dbl[,1]&gt;</th><th scope=col>&lt;dbl[,1]&gt;</th><th scope=col>&lt;dbl[,1]&gt;</th><th scope=col>&lt;dbl[,1]&gt;</th><th scope=col>&lt;fct&gt;</th></tr>\n",
       "</thead>\n",
       "<tbody>\n",
       "\t<tr><td>-0.3926899</td><td>-0.1785002</td><td>-0.284628</td><td>-0.2020831</td><td>-0.4101527</td><td>-0.1752846</td><td>-0.17216938</td><td>0</td></tr>\n",
       "\t<tr><td>-0.3926899</td><td>-0.2100901</td><td>-0.284628</td><td>-0.2067866</td><td>-0.4101527</td><td>-0.1752846</td><td>-0.17805546</td><td>0</td></tr>\n",
       "\t<tr><td>-0.2647995</td><td>-0.1120615</td><td>-0.284628</td><td> 0.4679552</td><td>-0.4101527</td><td>-0.1752846</td><td>-0.02103468</td><td>1</td></tr>\n",
       "\t<tr><td>⋮</td><td>⋮</td><td>⋮</td><td>⋮</td><td>⋮</td><td>⋮</td><td>⋮</td><td>⋮</td></tr>\n",
       "\t<tr><td>-0.3461843</td><td>-0.2068314</td><td>-0.284628</td><td>-0.2067866</td><td>-0.4101527</td><td>-0.1752846</td><td>-0.1767210</td><td>0</td></tr>\n",
       "\t<tr><td>-0.3787382</td><td>-0.2103562</td><td>-0.284628</td><td>-0.2067866</td><td>-0.4101527</td><td>-0.1752846</td><td>-0.1778486</td><td>0</td></tr>\n",
       "\t<tr><td>-0.3810635</td><td>-0.2106222</td><td>-0.284628</td><td>-0.2067866</td><td>-0.4101527</td><td>-0.1752846</td><td>-0.1779313</td><td>0</td></tr>\n",
       "</tbody>\n",
       "</table>\n"
      ],
      "text/latex": [
       "A tibble: 195 × 8\n",
       "\\begin{tabular}{llllllll}\n",
       " Risk\\_A & Risk\\_B & Risk\\_C & Risk\\_D & RiSk\\_E & Risk\\_F & Audit\\_Risk & Risk\\\\\n",
       " <dbl{[},1{]}> & <dbl{[},1{]}> & <dbl{[},1{]}> & <dbl{[},1{]}> & <dbl{[},1{]}> & <dbl{[},1{]}> & <dbl{[},1{]}> & <fct>\\\\\n",
       "\\hline\n",
       "\t -0.3926899 & -0.1785002 & -0.284628 & -0.2020831 & -0.4101527 & -0.1752846 & -0.17216938 & 0\\\\\n",
       "\t -0.3926899 & -0.2100901 & -0.284628 & -0.2067866 & -0.4101527 & -0.1752846 & -0.17805546 & 0\\\\\n",
       "\t -0.2647995 & -0.1120615 & -0.284628 &  0.4679552 & -0.4101527 & -0.1752846 & -0.02103468 & 1\\\\\n",
       "\t ⋮ & ⋮ & ⋮ & ⋮ & ⋮ & ⋮ & ⋮ & ⋮\\\\\n",
       "\t -0.3461843 & -0.2068314 & -0.284628 & -0.2067866 & -0.4101527 & -0.1752846 & -0.1767210 & 0\\\\\n",
       "\t -0.3787382 & -0.2103562 & -0.284628 & -0.2067866 & -0.4101527 & -0.1752846 & -0.1778486 & 0\\\\\n",
       "\t -0.3810635 & -0.2106222 & -0.284628 & -0.2067866 & -0.4101527 & -0.1752846 & -0.1779313 & 0\\\\\n",
       "\\end{tabular}\n"
      ],
      "text/markdown": [
       "\n",
       "A tibble: 195 × 8\n",
       "\n",
       "| Risk_A &lt;dbl[,1]&gt; | Risk_B &lt;dbl[,1]&gt; | Risk_C &lt;dbl[,1]&gt; | Risk_D &lt;dbl[,1]&gt; | RiSk_E &lt;dbl[,1]&gt; | Risk_F &lt;dbl[,1]&gt; | Audit_Risk &lt;dbl[,1]&gt; | Risk &lt;fct&gt; |\n",
       "|---|---|---|---|---|---|---|---|\n",
       "| -0.3926899 | -0.1785002 | -0.284628 | -0.2020831 | -0.4101527 | -0.1752846 | -0.17216938 | 0 |\n",
       "| -0.3926899 | -0.2100901 | -0.284628 | -0.2067866 | -0.4101527 | -0.1752846 | -0.17805546 | 0 |\n",
       "| -0.2647995 | -0.1120615 | -0.284628 |  0.4679552 | -0.4101527 | -0.1752846 | -0.02103468 | 1 |\n",
       "| ⋮ | ⋮ | ⋮ | ⋮ | ⋮ | ⋮ | ⋮ | ⋮ |\n",
       "| -0.3461843 | -0.2068314 | -0.284628 | -0.2067866 | -0.4101527 | -0.1752846 | -0.1767210 | 0 |\n",
       "| -0.3787382 | -0.2103562 | -0.284628 | -0.2067866 | -0.4101527 | -0.1752846 | -0.1778486 | 0 |\n",
       "| -0.3810635 | -0.2106222 | -0.284628 | -0.2067866 | -0.4101527 | -0.1752846 | -0.1779313 | 0 |\n",
       "\n"
      ],
      "text/plain": [
       "    Risk_A     Risk_B     Risk_C    Risk_D     RiSk_E     Risk_F    \n",
       "1   -0.3926899 -0.1785002 -0.284628 -0.2020831 -0.4101527 -0.1752846\n",
       "2   -0.3926899 -0.2100901 -0.284628 -0.2067866 -0.4101527 -0.1752846\n",
       "3   -0.2647995 -0.1120615 -0.284628  0.4679552 -0.4101527 -0.1752846\n",
       "⋮   ⋮          ⋮          ⋮         ⋮          ⋮          ⋮         \n",
       "193 -0.3461843 -0.2068314 -0.284628 -0.2067866 -0.4101527 -0.1752846\n",
       "194 -0.3787382 -0.2103562 -0.284628 -0.2067866 -0.4101527 -0.1752846\n",
       "195 -0.3810635 -0.2106222 -0.284628 -0.2067866 -0.4101527 -0.1752846\n",
       "    Audit_Risk  Risk\n",
       "1   -0.17216938 0   \n",
       "2   -0.17805546 0   \n",
       "3   -0.02103468 1   \n",
       "⋮   ⋮           ⋮   \n",
       "193 -0.1767210  0   \n",
       "194 -0.1778486  0   \n",
       "195 -0.1779313  0   "
      ]
     },
     "metadata": {},
     "output_type": "display_data"
    }
   ],
   "source": [
    "risk_data <- audit_risk |>\n",
    "                select(contains(\"Risk_\"),Audit_Risk,Risk) \n",
    "\n",
    "risk_data_scaled <- risk_data |>\n",
    "                    mutate(across(Risk_A:Audit_Risk, scale)) |>\n",
    "                    mutate(Risk = as_factor(Risk))\n",
    "                           \n",
    "set.seed(123)\n",
    "\n",
    "risk_data_split <- initial_split(risk_data_scaled, prop = 0.75, strata = Risk)  \n",
    "risk_data_train <- training(risk_data_split)   \n",
    "risk_data_test <- testing(risk_data_split)\n",
    "risk_data_train\n",
    "risk_data_test"
   ]
  },
  {
   "cell_type": "code",
   "execution_count": 7,
   "id": "76f1b502-c108-47d7-b82b-b0397485455c",
   "metadata": {},
   "outputs": [
    {
     "data": {
      "image/png": "[encoded data removed]",
      "text/plain": [
       "plot without title"
      ]
     },
     "metadata": {
      "image/png": {
       "height": 420,
       "width": 420
      }
     },
     "output_type": "display_data"
    }
   ],
   "source": [
    "risk_plot <- risk_data_train |>\n",
    "                ggplot(aes(x = Audit_Risk, fill = Risk)) +\n",
    "                geom_histogram(stat = \"bin\", binwidth = 2) +\n",
    "                labs(x = \"Audit Risk (Standardized)\", y = \"Number of Companies\", fill = \"Risk\") +\n",
    "                theme(text = element_text(size = 20)) +\n",
    "                facet_grid(cols = vars(Risk))\n",
    "risk_plot"
   ]
  },
  {
   "cell_type": "code",
   "execution_count": 8,
   "id": "2d75ba38-8faa-41dc-833b-84acb0dee9a1",
   "metadata": {},
   "outputs": [
    {
     "data": {
      "text/html": [
       "<table class=\"dataframe\">\n",
       "<caption>A tibble: 80 × 7</caption>\n",
       "<thead>\n",
       "\t<tr><th scope=col>neighbors</th><th scope=col>.metric</th><th scope=col>.estimator</th><th scope=col>mean</th><th scope=col>n</th><th scope=col>std_err</th><th scope=col>.config</th></tr>\n",
       "\t<tr><th scope=col>&lt;dbl&gt;</th><th scope=col>&lt;chr&gt;</th><th scope=col>&lt;chr&gt;</th><th scope=col>&lt;dbl&gt;</th><th scope=col>&lt;int&gt;</th><th scope=col>&lt;dbl&gt;</th><th scope=col>&lt;chr&gt;</th></tr>\n",
       "</thead>\n",
       "<tbody>\n",
       "\t<tr><td>1</td><td>accuracy</td><td>binary</td><td>0.9741806</td><td>5</td><td>0.0001092303</td><td>Preprocessor1_Model01</td></tr>\n",
       "\t<tr><td>1</td><td>roc_auc </td><td>binary</td><td>0.9709569</td><td>5</td><td>0.0017981037</td><td>Preprocessor1_Model01</td></tr>\n",
       "\t<tr><td>2</td><td>accuracy</td><td>binary</td><td>0.9741806</td><td>5</td><td>0.0001092303</td><td>Preprocessor1_Model02</td></tr>\n",
       "\t<tr><td>⋮</td><td>⋮</td><td>⋮</td><td>⋮</td><td>⋮</td><td>⋮</td><td>⋮</td></tr>\n",
       "\t<tr><td>39</td><td>roc_auc </td><td>binary</td><td>0.9902670</td><td>5</td><td>0.003322150</td><td>Preprocessor1_Model39</td></tr>\n",
       "\t<tr><td>40</td><td>accuracy</td><td>binary</td><td>0.9274322</td><td>5</td><td>0.016597637</td><td>Preprocessor1_Model40</td></tr>\n",
       "\t<tr><td>40</td><td>roc_auc </td><td>binary</td><td>0.9902352</td><td>5</td><td>0.003399027</td><td>Preprocessor1_Model40</td></tr>\n",
       "</tbody>\n",
       "</table>\n"
      ],
      "text/latex": [
       "A tibble: 80 × 7\n",
       "\\begin{tabular}{lllllll}\n",
       " neighbors & .metric & .estimator & mean & n & std\\_err & .config\\\\\n",
       " <dbl> & <chr> & <chr> & <dbl> & <int> & <dbl> & <chr>\\\\\n",
       "\\hline\n",
       "\t 1 & accuracy & binary & 0.9741806 & 5 & 0.0001092303 & Preprocessor1\\_Model01\\\\\n",
       "\t 1 & roc\\_auc  & binary & 0.9709569 & 5 & 0.0017981037 & Preprocessor1\\_Model01\\\\\n",
       "\t 2 & accuracy & binary & 0.9741806 & 5 & 0.0001092303 & Preprocessor1\\_Model02\\\\\n",
       "\t ⋮ & ⋮ & ⋮ & ⋮ & ⋮ & ⋮ & ⋮\\\\\n",
       "\t 39 & roc\\_auc  & binary & 0.9902670 & 5 & 0.003322150 & Preprocessor1\\_Model39\\\\\n",
       "\t 40 & accuracy & binary & 0.9274322 & 5 & 0.016597637 & Preprocessor1\\_Model40\\\\\n",
       "\t 40 & roc\\_auc  & binary & 0.9902352 & 5 & 0.003399027 & Preprocessor1\\_Model40\\\\\n",
       "\\end{tabular}\n"
      ],
      "text/markdown": [
       "\n",
       "A tibble: 80 × 7\n",
       "\n",
       "| neighbors &lt;dbl&gt; | .metric &lt;chr&gt; | .estimator &lt;chr&gt; | mean &lt;dbl&gt; | n &lt;int&gt; | std_err &lt;dbl&gt; | .config &lt;chr&gt; |\n",
       "|---|---|---|---|---|---|---|\n",
       "| 1 | accuracy | binary | 0.9741806 | 5 | 0.0001092303 | Preprocessor1_Model01 |\n",
       "| 1 | roc_auc  | binary | 0.9709569 | 5 | 0.0017981037 | Preprocessor1_Model01 |\n",
       "| 2 | accuracy | binary | 0.9741806 | 5 | 0.0001092303 | Preprocessor1_Model02 |\n",
       "| ⋮ | ⋮ | ⋮ | ⋮ | ⋮ | ⋮ | ⋮ |\n",
       "| 39 | roc_auc  | binary | 0.9902670 | 5 | 0.003322150 | Preprocessor1_Model39 |\n",
       "| 40 | accuracy | binary | 0.9274322 | 5 | 0.016597637 | Preprocessor1_Model40 |\n",
       "| 40 | roc_auc  | binary | 0.9902352 | 5 | 0.003399027 | Preprocessor1_Model40 |\n",
       "\n"
      ],
      "text/plain": [
       "   neighbors .metric  .estimator mean      n std_err      .config              \n",
       "1  1         accuracy binary     0.9741806 5 0.0001092303 Preprocessor1_Model01\n",
       "2  1         roc_auc  binary     0.9709569 5 0.0017981037 Preprocessor1_Model01\n",
       "3  2         accuracy binary     0.9741806 5 0.0001092303 Preprocessor1_Model02\n",
       "⋮  ⋮         ⋮        ⋮          ⋮         ⋮ ⋮            ⋮                    \n",
       "78 39        roc_auc  binary     0.9902670 5 0.003322150  Preprocessor1_Model39\n",
       "79 40        accuracy binary     0.9274322 5 0.016597637  Preprocessor1_Model40\n",
       "80 40        roc_auc  binary     0.9902352 5 0.003399027  Preprocessor1_Model40"
      ]
     },
     "metadata": {},
     "output_type": "display_data"
    },
    {
     "data": {
      "image/png": "[encoded data removed]",
      "text/plain": [
       "plot without title"
      ]
     },
     "metadata": {
      "image/png": {
       "height": 420,
       "width": 420
      }
     },
     "output_type": "display_data"
    }
   ],
   "source": [
    "training_recipe <- recipe(Risk ~ ., data = risk_data_train)\n",
    "\n",
    "training_vfold <- vfold_cv(risk_data_train, v = 5, strata = Risk)\n",
    "\n",
    "training_mode <- nearest_neighbor(weight_func = \"rectangular\", neighbors = tune()) |>\n",
    "                    set_engine(\"kknn\") |>\n",
    "                    set_mode(\"classification\")\n",
    "\n",
    "cross_val <- workflow() |>\n",
    "                add_recipe(training_recipe) |>\n",
    "                add_model(training_mode) |>\n",
    "                tune_grid(resamples = training_vfold, grid = tibble(neighbors = seq(from = 1, to = 40, by = 1))) |>\n",
    "                collect_metrics()\n",
    "cross_val\n",
    "\n",
    "accuracies <- cross_val |> \n",
    "       filter(.metric == \"accuracy\")\n",
    "\n",
    "cross_val_plot <- ggplot(accuracies, aes(x = neighbors, y = mean))+\n",
    "       geom_point() +\n",
    "       geom_line() +\n",
    "       labs(x = \"Neighbors\", y = \"Accuracy Estimate\") +\n",
    "       scale_x_continuous(breaks = seq(0, 50, by = 5))\n",
    "cross_val_plot"
   ]
  },
  {
   "cell_type": "markdown",
   "id": "f8e368cf-89fa-4636-a18c-52baf0276995",
   "metadata": {},
   "source": [
    "## Reference\n",
    "\n",
    "Porcuna-Enguix, L., Bustos-Contell, E., Serrano-Madrid, J., & Labatut-Serer, G. (2021). Constructing the Audit Risk Assessment by the Audit Team Leader When Planning: Using Fuzzy Theory. Mathematics, 9(23), 3065. MDPI AG. Retrieved from http://dx.doi.org/10.3390/math9233065\n",
    "\n",
    "\n",
    "Chang, S., Tsai, C., Shih, D., Hwang, C.,(2008). The development of audit detection risk assessment system: Using the fuzzy theory and audit risk model,Expert Systems with Applications,\n",
    "ISSN 0957-4174, https://doi.org/10.1016/j.eswa.2007.08.057."
   ]
  },
  {
   "cell_type": "code",
   "execution_count": null,
   "id": "4fe1bd4e-5caa-4e88-80ca-01f49a148347",
   "metadata": {},
   "outputs": [],
   "source": []
  }
 ],
 "metadata": {
  "kernelspec": {
   "display_name": "R",
   "language": "R",
   "name": "ir"
  },
  "language_info": {
   "codemirror_mode": "r",
   "file_extension": ".r",
   "mimetype": "text/x-r-source",
   "name": "R",
   "pygments_lexer": "r",
   "version": "4.1.3"
  }
 },
 "nbformat": 4,
 "nbformat_minor": 5
}
