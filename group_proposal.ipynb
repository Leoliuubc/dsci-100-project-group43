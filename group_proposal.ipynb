{
 "cells": [
  {
   "cell_type": "markdown",
   "id": "3269dc97-c384-436c-bc23-759b1a48349f",
   "metadata": {},
   "source": [
    "Prediction on tax fraud"
   ]
  },
  {
   "cell_type": "markdown",
   "id": "f53657a0-24da-4a49-bab8-149578e0e7de",
   "metadata": {},
   "source": [
    "Intro：The study was conducted to build a classification model that can predict the classification of a company being fraudulent based on current and past risk factors, collecting data bases from 2015-2016 to build predictive tools for classifying suspicious companies.And this research can be applied to many industries such as industry and agriculture. In addition, the study is authentic and multi-faceted: the combination of data in the dataset takes into account multiple aspects such as audit reports, environmental status reports, persistent problem reports, etc."
   ]
  },
  {
   "cell_type": "code",
   "execution_count": 2,
   "id": "b1eca379-2f46-49ef-8a55-5d4c8f1ad368",
   "metadata": {},
   "outputs": [
    {
     "name": "stderr",
     "output_type": "stream",
     "text": [
      "── \u001b[1mAttaching packages\u001b[22m ─────────────────────────────────────── tidyverse 1.3.1 ──\n",
      "\n",
      "\u001b[32m✔\u001b[39m \u001b[34mggplot2\u001b[39m 3.3.6     \u001b[32m✔\u001b[39m \u001b[34mpurrr  \u001b[39m 0.3.4\n",
      "\u001b[32m✔\u001b[39m \u001b[34mtibble \u001b[39m 3.1.7     \u001b[32m✔\u001b[39m \u001b[34mdplyr  \u001b[39m 1.0.9\n",
      "\u001b[32m✔\u001b[39m \u001b[34mtidyr  \u001b[39m 1.2.0     \u001b[32m✔\u001b[39m \u001b[34mstringr\u001b[39m 1.4.0\n",
      "\u001b[32m✔\u001b[39m \u001b[34mreadr  \u001b[39m 2.1.2     \u001b[32m✔\u001b[39m \u001b[34mforcats\u001b[39m 0.5.1\n",
      "\n",
      "── \u001b[1mConflicts\u001b[22m ────────────────────────────────────────── tidyverse_conflicts() ──\n",
      "\u001b[31m✖\u001b[39m \u001b[34mdplyr\u001b[39m::\u001b[32mfilter()\u001b[39m masks \u001b[34mstats\u001b[39m::filter()\n",
      "\u001b[31m✖\u001b[39m \u001b[34mdplyr\u001b[39m::\u001b[32mlag()\u001b[39m    masks \u001b[34mstats\u001b[39m::lag()\n",
      "\n",
      "── \u001b[1mAttaching packages\u001b[22m ────────────────────────────────────── tidymodels 1.0.0 ──\n",
      "\n",
      "\u001b[32m✔\u001b[39m \u001b[34mbroom       \u001b[39m 1.0.0     \u001b[32m✔\u001b[39m \u001b[34mrsample     \u001b[39m 1.0.0\n",
      "\u001b[32m✔\u001b[39m \u001b[34mdials       \u001b[39m 1.0.0     \u001b[32m✔\u001b[39m \u001b[34mtune        \u001b[39m 1.0.0\n",
      "\u001b[32m✔\u001b[39m \u001b[34minfer       \u001b[39m 1.0.2     \u001b[32m✔\u001b[39m \u001b[34mworkflows   \u001b[39m 1.0.0\n",
      "\u001b[32m✔\u001b[39m \u001b[34mmodeldata   \u001b[39m 1.0.0     \u001b[32m✔\u001b[39m \u001b[34mworkflowsets\u001b[39m 1.0.0\n",
      "\u001b[32m✔\u001b[39m \u001b[34mparsnip     \u001b[39m 1.0.0     \u001b[32m✔\u001b[39m \u001b[34myardstick   \u001b[39m 1.0.0\n",
      "\u001b[32m✔\u001b[39m \u001b[34mrecipes     \u001b[39m 1.0.1     \n",
      "\n",
      "── \u001b[1mConflicts\u001b[22m ───────────────────────────────────────── tidymodels_conflicts() ──\n",
      "\u001b[31m✖\u001b[39m \u001b[34mscales\u001b[39m::\u001b[32mdiscard()\u001b[39m masks \u001b[34mpurrr\u001b[39m::discard()\n",
      "\u001b[31m✖\u001b[39m \u001b[34mdplyr\u001b[39m::\u001b[32mfilter()\u001b[39m   masks \u001b[34mstats\u001b[39m::filter()\n",
      "\u001b[31m✖\u001b[39m \u001b[34mrecipes\u001b[39m::\u001b[32mfixed()\u001b[39m  masks \u001b[34mstringr\u001b[39m::fixed()\n",
      "\u001b[31m✖\u001b[39m \u001b[34mdplyr\u001b[39m::\u001b[32mlag()\u001b[39m      masks \u001b[34mstats\u001b[39m::lag()\n",
      "\u001b[31m✖\u001b[39m \u001b[34myardstick\u001b[39m::\u001b[32mspec()\u001b[39m masks \u001b[34mreadr\u001b[39m::spec()\n",
      "\u001b[31m✖\u001b[39m \u001b[34mrecipes\u001b[39m::\u001b[32mstep()\u001b[39m   masks \u001b[34mstats\u001b[39m::step()\n",
      "\u001b[34m•\u001b[39m Learn how to get started at \u001b[32mhttps://www.tidymodels.org/start/\u001b[39m\n",
      "\n"
     ]
    }
   ],
   "source": [
    "library(tidyverse)\n",
    "library(repr)\n",
    "library(tidymodels)\n",
    "options(repr.matrix.max.rows = 6)"
   ]
  },
  {
   "cell_type": "markdown",
   "id": "ed0dc1dd-ff47-4d73-a45b-6f57e3d28d7e",
   "metadata": {},
   "source": [
    "Dataset of companies with no risk."
   ]
  },
  {
   "cell_type": "code",
   "execution_count": 3,
   "id": "f408dfa9-c93c-496c-8d0e-e21f784c7ea2",
   "metadata": {},
   "outputs": [
    {
     "name": "stderr",
     "output_type": "stream",
     "text": [
      "\u001b[1m\u001b[22mNew names:\n",
      "\u001b[36m•\u001b[39m `Score_B` -> `Score_B...7`\n",
      "\u001b[36m•\u001b[39m `Score_B` -> `Score_B...11`\n",
      "\u001b[1mRows: \u001b[22m\u001b[34m776\u001b[39m \u001b[1mColumns: \u001b[22m\u001b[34m27\u001b[39m\n",
      "\u001b[36m──\u001b[39m \u001b[1mColumn specification\u001b[22m \u001b[36m────────────────────────────────────────────────────────\u001b[39m\n",
      "\u001b[1mDelimiter:\u001b[22m \",\"\n",
      "\u001b[31mchr\u001b[39m  (1): LOCATION_ID\n",
      "\u001b[32mdbl\u001b[39m (26): Sector_score, PARA_A, Score_A, Risk_A, PARA_B, Score_B...7, Risk_B...\n",
      "\n",
      "\u001b[36mℹ\u001b[39m Use `spec()` to retrieve the full column specification for this data.\n",
      "\u001b[36mℹ\u001b[39m Specify the column types or set `show_col_types = FALSE` to quiet this message.\n"
     ]
    },
    {
     "data": {
      "text/html": [
       "<table class=\"dataframe\">\n",
       "<caption>A spec_tbl_df: 776 × 27</caption>\n",
       "<thead>\n",
       "\t<tr><th scope=col>Sector_score</th><th scope=col>LOCATION_ID</th><th scope=col>PARA_A</th><th scope=col>Score_A</th><th scope=col>Risk_A</th><th scope=col>PARA_B</th><th scope=col>Score_B...7</th><th scope=col>Risk_B</th><th scope=col>TOTAL</th><th scope=col>numbers</th><th scope=col>⋯</th><th scope=col>RiSk_E</th><th scope=col>History</th><th scope=col>Prob</th><th scope=col>Risk_F</th><th scope=col>Score</th><th scope=col>Inherent_Risk</th><th scope=col>CONTROL_RISK</th><th scope=col>Detection_Risk</th><th scope=col>Audit_Risk</th><th scope=col>Risk</th></tr>\n",
       "\t<tr><th scope=col>&lt;dbl&gt;</th><th scope=col>&lt;chr&gt;</th><th scope=col>&lt;dbl&gt;</th><th scope=col>&lt;dbl&gt;</th><th scope=col>&lt;dbl&gt;</th><th scope=col>&lt;dbl&gt;</th><th scope=col>&lt;dbl&gt;</th><th scope=col>&lt;dbl&gt;</th><th scope=col>&lt;dbl&gt;</th><th scope=col>&lt;dbl&gt;</th><th scope=col>⋯</th><th scope=col>&lt;dbl&gt;</th><th scope=col>&lt;dbl&gt;</th><th scope=col>&lt;dbl&gt;</th><th scope=col>&lt;dbl&gt;</th><th scope=col>&lt;dbl&gt;</th><th scope=col>&lt;dbl&gt;</th><th scope=col>&lt;dbl&gt;</th><th scope=col>&lt;dbl&gt;</th><th scope=col>&lt;dbl&gt;</th><th scope=col>&lt;dbl&gt;</th></tr>\n",
       "</thead>\n",
       "<tbody>\n",
       "\t<tr><td>3.89</td><td>23</td><td>4.18</td><td>0.6</td><td>2.508</td><td>2.50</td><td>0.2</td><td>0.500</td><td>6.68</td><td>5</td><td>⋯</td><td>0.4</td><td>0</td><td>0.2</td><td>0</td><td>2.4</td><td>8.574</td><td>0.4</td><td>0.5</td><td>1.7148</td><td>1</td></tr>\n",
       "\t<tr><td>3.89</td><td>6 </td><td>0.00</td><td>0.2</td><td>0.000</td><td>4.83</td><td>0.2</td><td>0.966</td><td>4.83</td><td>5</td><td>⋯</td><td>0.4</td><td>0</td><td>0.2</td><td>0</td><td>2.0</td><td>2.554</td><td>0.4</td><td>0.5</td><td>0.5108</td><td>0</td></tr>\n",
       "\t<tr><td>3.89</td><td>6 </td><td>0.51</td><td>0.2</td><td>0.102</td><td>0.23</td><td>0.2</td><td>0.046</td><td>0.74</td><td>5</td><td>⋯</td><td>0.4</td><td>0</td><td>0.2</td><td>0</td><td>2.0</td><td>1.548</td><td>0.4</td><td>0.5</td><td>0.3096</td><td>0</td></tr>\n",
       "\t<tr><td>⋮</td><td>⋮</td><td>⋮</td><td>⋮</td><td>⋮</td><td>⋮</td><td>⋮</td><td>⋮</td><td>⋮</td><td>⋮</td><td>⋱</td><td>⋮</td><td>⋮</td><td>⋮</td><td>⋮</td><td>⋮</td><td>⋮</td><td>⋮</td><td>⋮</td><td>⋮</td><td>⋮</td></tr>\n",
       "\t<tr><td>55.57</td><td>14</td><td>0.24</td><td>0.2</td><td>0.048</td><td>0.04</td><td>0.2</td><td>0.008</td><td>0.28</td><td>5</td><td>⋯</td><td>0.4</td><td>0</td><td>0.2</td><td>0</td><td>2</td><td>1.456</td><td>0.4</td><td>0.5</td><td>0.2912</td><td>0</td></tr>\n",
       "\t<tr><td>55.57</td><td>18</td><td>0.20</td><td>0.2</td><td>0.040</td><td>0.00</td><td>0.2</td><td>0.000</td><td>0.20</td><td>5</td><td>⋯</td><td>0.4</td><td>0</td><td>0.2</td><td>0</td><td>2</td><td>1.440</td><td>0.4</td><td>0.5</td><td>0.2880</td><td>0</td></tr>\n",
       "\t<tr><td>55.57</td><td>15</td><td>0.00</td><td>0.2</td><td>0.000</td><td>0.00</td><td>0.2</td><td>0.000</td><td>0.00</td><td>5</td><td>⋯</td><td>0.4</td><td>0</td><td>0.2</td><td>0</td><td>2</td><td>1.464</td><td>0.4</td><td>0.5</td><td>0.2928</td><td>0</td></tr>\n",
       "</tbody>\n",
       "</table>\n"
      ],
      "text/latex": [
       "A spec\\_tbl\\_df: 776 × 27\n",
       "\\begin{tabular}{lllllllllllllllllllll}\n",
       " Sector\\_score & LOCATION\\_ID & PARA\\_A & Score\\_A & Risk\\_A & PARA\\_B & Score\\_B...7 & Risk\\_B & TOTAL & numbers & ⋯ & RiSk\\_E & History & Prob & Risk\\_F & Score & Inherent\\_Risk & CONTROL\\_RISK & Detection\\_Risk & Audit\\_Risk & Risk\\\\\n",
       " <dbl> & <chr> & <dbl> & <dbl> & <dbl> & <dbl> & <dbl> & <dbl> & <dbl> & <dbl> & ⋯ & <dbl> & <dbl> & <dbl> & <dbl> & <dbl> & <dbl> & <dbl> & <dbl> & <dbl> & <dbl>\\\\\n",
       "\\hline\n",
       "\t 3.89 & 23 & 4.18 & 0.6 & 2.508 & 2.50 & 0.2 & 0.500 & 6.68 & 5 & ⋯ & 0.4 & 0 & 0.2 & 0 & 2.4 & 8.574 & 0.4 & 0.5 & 1.7148 & 1\\\\\n",
       "\t 3.89 & 6  & 0.00 & 0.2 & 0.000 & 4.83 & 0.2 & 0.966 & 4.83 & 5 & ⋯ & 0.4 & 0 & 0.2 & 0 & 2.0 & 2.554 & 0.4 & 0.5 & 0.5108 & 0\\\\\n",
       "\t 3.89 & 6  & 0.51 & 0.2 & 0.102 & 0.23 & 0.2 & 0.046 & 0.74 & 5 & ⋯ & 0.4 & 0 & 0.2 & 0 & 2.0 & 1.548 & 0.4 & 0.5 & 0.3096 & 0\\\\\n",
       "\t ⋮ & ⋮ & ⋮ & ⋮ & ⋮ & ⋮ & ⋮ & ⋮ & ⋮ & ⋮ & ⋱ & ⋮ & ⋮ & ⋮ & ⋮ & ⋮ & ⋮ & ⋮ & ⋮ & ⋮ & ⋮\\\\\n",
       "\t 55.57 & 14 & 0.24 & 0.2 & 0.048 & 0.04 & 0.2 & 0.008 & 0.28 & 5 & ⋯ & 0.4 & 0 & 0.2 & 0 & 2 & 1.456 & 0.4 & 0.5 & 0.2912 & 0\\\\\n",
       "\t 55.57 & 18 & 0.20 & 0.2 & 0.040 & 0.00 & 0.2 & 0.000 & 0.20 & 5 & ⋯ & 0.4 & 0 & 0.2 & 0 & 2 & 1.440 & 0.4 & 0.5 & 0.2880 & 0\\\\\n",
       "\t 55.57 & 15 & 0.00 & 0.2 & 0.000 & 0.00 & 0.2 & 0.000 & 0.00 & 5 & ⋯ & 0.4 & 0 & 0.2 & 0 & 2 & 1.464 & 0.4 & 0.5 & 0.2928 & 0\\\\\n",
       "\\end{tabular}\n"
      ],
      "text/markdown": [
       "\n",
       "A spec_tbl_df: 776 × 27\n",
       "\n",
       "| Sector_score &lt;dbl&gt; | LOCATION_ID &lt;chr&gt; | PARA_A &lt;dbl&gt; | Score_A &lt;dbl&gt; | Risk_A &lt;dbl&gt; | PARA_B &lt;dbl&gt; | Score_B...7 &lt;dbl&gt; | Risk_B &lt;dbl&gt; | TOTAL &lt;dbl&gt; | numbers &lt;dbl&gt; | ⋯ ⋯ | RiSk_E &lt;dbl&gt; | History &lt;dbl&gt; | Prob &lt;dbl&gt; | Risk_F &lt;dbl&gt; | Score &lt;dbl&gt; | Inherent_Risk &lt;dbl&gt; | CONTROL_RISK &lt;dbl&gt; | Detection_Risk &lt;dbl&gt; | Audit_Risk &lt;dbl&gt; | Risk &lt;dbl&gt; |\n",
       "|---|---|---|---|---|---|---|---|---|---|---|---|---|---|---|---|---|---|---|---|---|\n",
       "| 3.89 | 23 | 4.18 | 0.6 | 2.508 | 2.50 | 0.2 | 0.500 | 6.68 | 5 | ⋯ | 0.4 | 0 | 0.2 | 0 | 2.4 | 8.574 | 0.4 | 0.5 | 1.7148 | 1 |\n",
       "| 3.89 | 6  | 0.00 | 0.2 | 0.000 | 4.83 | 0.2 | 0.966 | 4.83 | 5 | ⋯ | 0.4 | 0 | 0.2 | 0 | 2.0 | 2.554 | 0.4 | 0.5 | 0.5108 | 0 |\n",
       "| 3.89 | 6  | 0.51 | 0.2 | 0.102 | 0.23 | 0.2 | 0.046 | 0.74 | 5 | ⋯ | 0.4 | 0 | 0.2 | 0 | 2.0 | 1.548 | 0.4 | 0.5 | 0.3096 | 0 |\n",
       "| ⋮ | ⋮ | ⋮ | ⋮ | ⋮ | ⋮ | ⋮ | ⋮ | ⋮ | ⋮ | ⋱ | ⋮ | ⋮ | ⋮ | ⋮ | ⋮ | ⋮ | ⋮ | ⋮ | ⋮ | ⋮ |\n",
       "| 55.57 | 14 | 0.24 | 0.2 | 0.048 | 0.04 | 0.2 | 0.008 | 0.28 | 5 | ⋯ | 0.4 | 0 | 0.2 | 0 | 2 | 1.456 | 0.4 | 0.5 | 0.2912 | 0 |\n",
       "| 55.57 | 18 | 0.20 | 0.2 | 0.040 | 0.00 | 0.2 | 0.000 | 0.20 | 5 | ⋯ | 0.4 | 0 | 0.2 | 0 | 2 | 1.440 | 0.4 | 0.5 | 0.2880 | 0 |\n",
       "| 55.57 | 15 | 0.00 | 0.2 | 0.000 | 0.00 | 0.2 | 0.000 | 0.00 | 5 | ⋯ | 0.4 | 0 | 0.2 | 0 | 2 | 1.464 | 0.4 | 0.5 | 0.2928 | 0 |\n",
       "\n"
      ],
      "text/plain": [
       "    Sector_score LOCATION_ID PARA_A Score_A Risk_A PARA_B Score_B...7 Risk_B\n",
       "1   3.89         23          4.18   0.6     2.508  2.50   0.2         0.500 \n",
       "2   3.89         6           0.00   0.2     0.000  4.83   0.2         0.966 \n",
       "3   3.89         6           0.51   0.2     0.102  0.23   0.2         0.046 \n",
       "⋮   ⋮            ⋮           ⋮      ⋮       ⋮      ⋮      ⋮           ⋮     \n",
       "774 55.57        14          0.24   0.2     0.048  0.04   0.2         0.008 \n",
       "775 55.57        18          0.20   0.2     0.040  0.00   0.2         0.000 \n",
       "776 55.57        15          0.00   0.2     0.000  0.00   0.2         0.000 \n",
       "    TOTAL numbers ⋯ RiSk_E History Prob Risk_F Score Inherent_Risk CONTROL_RISK\n",
       "1   6.68  5       ⋯ 0.4    0       0.2  0      2.4   8.574         0.4         \n",
       "2   4.83  5       ⋯ 0.4    0       0.2  0      2.0   2.554         0.4         \n",
       "3   0.74  5       ⋯ 0.4    0       0.2  0      2.0   1.548         0.4         \n",
       "⋮   ⋮     ⋮       ⋱ ⋮      ⋮       ⋮    ⋮      ⋮     ⋮             ⋮           \n",
       "774 0.28  5       ⋯ 0.4    0       0.2  0      2     1.456         0.4         \n",
       "775 0.20  5       ⋯ 0.4    0       0.2  0      2     1.440         0.4         \n",
       "776 0.00  5       ⋯ 0.4    0       0.2  0      2     1.464         0.4         \n",
       "    Detection_Risk Audit_Risk Risk\n",
       "1   0.5            1.7148     1   \n",
       "2   0.5            0.5108     0   \n",
       "3   0.5            0.3096     0   \n",
       "⋮   ⋮              ⋮          ⋮   \n",
       "774 0.5            0.2912     0   \n",
       "775 0.5            0.2880     0   \n",
       "776 0.5            0.2928     0   "
      ]
     },
     "metadata": {},
     "output_type": "display_data"
    }
   ],
   "source": [
    "audit_risk <- read_csv(\"data/audit_risk.csv\")\n",
    "audit_risk"
   ]
  },
  {
   "cell_type": "code",
   "execution_count": 62,
   "id": "818f7930-ff62-4017-a6d9-82dc1683b723",
   "metadata": {},
   "outputs": [
    {
     "data": {
      "text/html": [
       "<table class=\"dataframe\">\n",
       "<caption>A tibble: 776 × 16</caption>\n",
       "<thead>\n",
       "\t<tr><th scope=col>LOCATION_ID</th><th scope=col>Sector_score</th><th scope=col>Money_Value</th><th scope=col>History</th><th scope=col>District_Loss</th><th scope=col>Risk_A</th><th scope=col>Risk_B</th><th scope=col>Risk_C</th><th scope=col>Risk_D</th><th scope=col>RiSk_E</th><th scope=col>Risk_F</th><th scope=col>Inherent_Risk</th><th scope=col>CONTROL_RISK</th><th scope=col>Detection_Risk</th><th scope=col>Audit_Risk</th><th scope=col>Risk</th></tr>\n",
       "\t<tr><th scope=col>&lt;chr&gt;</th><th scope=col>&lt;dbl&gt;</th><th scope=col>&lt;dbl&gt;</th><th scope=col>&lt;dbl&gt;</th><th scope=col>&lt;dbl&gt;</th><th scope=col>&lt;dbl&gt;</th><th scope=col>&lt;dbl&gt;</th><th scope=col>&lt;dbl&gt;</th><th scope=col>&lt;dbl&gt;</th><th scope=col>&lt;dbl&gt;</th><th scope=col>&lt;dbl&gt;</th><th scope=col>&lt;dbl&gt;</th><th scope=col>&lt;dbl&gt;</th><th scope=col>&lt;dbl&gt;</th><th scope=col>&lt;dbl&gt;</th><th scope=col>&lt;dbl&gt;</th></tr>\n",
       "</thead>\n",
       "<tbody>\n",
       "\t<tr><td>23</td><td>-0.6700327</td><td>-0.1615102</td><td>0</td><td>2</td><td>2.508</td><td>0.500</td><td>1</td><td>0.676</td><td>0.4</td><td>0</td><td>8.574</td><td>0.4</td><td>0.5</td><td>1.7148</td><td>1</td></tr>\n",
       "\t<tr><td>6 </td><td>-0.6700327</td><td>-0.1981432</td><td>0</td><td>2</td><td>0.000</td><td>0.966</td><td>1</td><td>0.188</td><td>0.4</td><td>0</td><td>2.554</td><td>0.4</td><td>0.5</td><td>0.5108</td><td>0</td></tr>\n",
       "\t<tr><td>6 </td><td>-0.6700327</td><td>-0.2122560</td><td>0</td><td>2</td><td>0.102</td><td>0.046</td><td>1</td><td>0.000</td><td>0.4</td><td>0</td><td>1.548</td><td>0.4</td><td>0.5</td><td>0.3096</td><td>0</td></tr>\n",
       "\t<tr><td>⋮</td><td>⋮</td><td>⋮</td><td>⋮</td><td>⋮</td><td>⋮</td><td>⋮</td><td>⋮</td><td>⋮</td><td>⋮</td><td>⋮</td><td>⋮</td><td>⋮</td><td>⋮</td><td>⋮</td><td>⋮</td></tr>\n",
       "\t<tr><td>14</td><td>1.455053</td><td>-0.2122560</td><td>0</td><td>2</td><td>0.048</td><td>0.008</td><td>1</td><td>0.000</td><td>0.4</td><td>0</td><td>1.456</td><td>0.4</td><td>0.5</td><td>0.2912</td><td>0</td></tr>\n",
       "\t<tr><td>18</td><td>1.455053</td><td>-0.2122560</td><td>0</td><td>2</td><td>0.040</td><td>0.000</td><td>1</td><td>0.000</td><td>0.4</td><td>0</td><td>1.440</td><td>0.4</td><td>0.5</td><td>0.2880</td><td>0</td></tr>\n",
       "\t<tr><td>15</td><td>1.455053</td><td>-0.2074516</td><td>0</td><td>2</td><td>0.000</td><td>0.000</td><td>1</td><td>0.064</td><td>0.4</td><td>0</td><td>1.464</td><td>0.4</td><td>0.5</td><td>0.2928</td><td>0</td></tr>\n",
       "</tbody>\n",
       "</table>\n"
      ],
      "text/latex": [
       "A tibble: 776 × 16\n",
       "\\begin{tabular}{llllllllllllllll}\n",
       " LOCATION\\_ID & Sector\\_score & Money\\_Value & History & District\\_Loss & Risk\\_A & Risk\\_B & Risk\\_C & Risk\\_D & RiSk\\_E & Risk\\_F & Inherent\\_Risk & CONTROL\\_RISK & Detection\\_Risk & Audit\\_Risk & Risk\\\\\n",
       " <chr> & <dbl> & <dbl> & <dbl> & <dbl> & <dbl> & <dbl> & <dbl> & <dbl> & <dbl> & <dbl> & <dbl> & <dbl> & <dbl> & <dbl> & <dbl>\\\\\n",
       "\\hline\n",
       "\t 23 & -0.6700327 & -0.1615102 & 0 & 2 & 2.508 & 0.500 & 1 & 0.676 & 0.4 & 0 & 8.574 & 0.4 & 0.5 & 1.7148 & 1\\\\\n",
       "\t 6  & -0.6700327 & -0.1981432 & 0 & 2 & 0.000 & 0.966 & 1 & 0.188 & 0.4 & 0 & 2.554 & 0.4 & 0.5 & 0.5108 & 0\\\\\n",
       "\t 6  & -0.6700327 & -0.2122560 & 0 & 2 & 0.102 & 0.046 & 1 & 0.000 & 0.4 & 0 & 1.548 & 0.4 & 0.5 & 0.3096 & 0\\\\\n",
       "\t ⋮ & ⋮ & ⋮ & ⋮ & ⋮ & ⋮ & ⋮ & ⋮ & ⋮ & ⋮ & ⋮ & ⋮ & ⋮ & ⋮ & ⋮ & ⋮\\\\\n",
       "\t 14 & 1.455053 & -0.2122560 & 0 & 2 & 0.048 & 0.008 & 1 & 0.000 & 0.4 & 0 & 1.456 & 0.4 & 0.5 & 0.2912 & 0\\\\\n",
       "\t 18 & 1.455053 & -0.2122560 & 0 & 2 & 0.040 & 0.000 & 1 & 0.000 & 0.4 & 0 & 1.440 & 0.4 & 0.5 & 0.2880 & 0\\\\\n",
       "\t 15 & 1.455053 & -0.2074516 & 0 & 2 & 0.000 & 0.000 & 1 & 0.064 & 0.4 & 0 & 1.464 & 0.4 & 0.5 & 0.2928 & 0\\\\\n",
       "\\end{tabular}\n"
      ],
      "text/markdown": [
       "\n",
       "A tibble: 776 × 16\n",
       "\n",
       "| LOCATION_ID &lt;chr&gt; | Sector_score &lt;dbl&gt; | Money_Value &lt;dbl&gt; | History &lt;dbl&gt; | District_Loss &lt;dbl&gt; | Risk_A &lt;dbl&gt; | Risk_B &lt;dbl&gt; | Risk_C &lt;dbl&gt; | Risk_D &lt;dbl&gt; | RiSk_E &lt;dbl&gt; | Risk_F &lt;dbl&gt; | Inherent_Risk &lt;dbl&gt; | CONTROL_RISK &lt;dbl&gt; | Detection_Risk &lt;dbl&gt; | Audit_Risk &lt;dbl&gt; | Risk &lt;dbl&gt; |\n",
       "|---|---|---|---|---|---|---|---|---|---|---|---|---|---|---|---|\n",
       "| 23 | -0.6700327 | -0.1615102 | 0 | 2 | 2.508 | 0.500 | 1 | 0.676 | 0.4 | 0 | 8.574 | 0.4 | 0.5 | 1.7148 | 1 |\n",
       "| 6  | -0.6700327 | -0.1981432 | 0 | 2 | 0.000 | 0.966 | 1 | 0.188 | 0.4 | 0 | 2.554 | 0.4 | 0.5 | 0.5108 | 0 |\n",
       "| 6  | -0.6700327 | -0.2122560 | 0 | 2 | 0.102 | 0.046 | 1 | 0.000 | 0.4 | 0 | 1.548 | 0.4 | 0.5 | 0.3096 | 0 |\n",
       "| ⋮ | ⋮ | ⋮ | ⋮ | ⋮ | ⋮ | ⋮ | ⋮ | ⋮ | ⋮ | ⋮ | ⋮ | ⋮ | ⋮ | ⋮ | ⋮ |\n",
       "| 14 | 1.455053 | -0.2122560 | 0 | 2 | 0.048 | 0.008 | 1 | 0.000 | 0.4 | 0 | 1.456 | 0.4 | 0.5 | 0.2912 | 0 |\n",
       "| 18 | 1.455053 | -0.2122560 | 0 | 2 | 0.040 | 0.000 | 1 | 0.000 | 0.4 | 0 | 1.440 | 0.4 | 0.5 | 0.2880 | 0 |\n",
       "| 15 | 1.455053 | -0.2074516 | 0 | 2 | 0.000 | 0.000 | 1 | 0.064 | 0.4 | 0 | 1.464 | 0.4 | 0.5 | 0.2928 | 0 |\n",
       "\n"
      ],
      "text/plain": [
       "    LOCATION_ID Sector_score Money_Value History District_Loss Risk_A Risk_B\n",
       "1   23          -0.6700327   -0.1615102  0       2             2.508  0.500 \n",
       "2   6           -0.6700327   -0.1981432  0       2             0.000  0.966 \n",
       "3   6           -0.6700327   -0.2122560  0       2             0.102  0.046 \n",
       "⋮   ⋮           ⋮            ⋮           ⋮       ⋮             ⋮      ⋮     \n",
       "774 14          1.455053     -0.2122560  0       2             0.048  0.008 \n",
       "775 18          1.455053     -0.2122560  0       2             0.040  0.000 \n",
       "776 15          1.455053     -0.2074516  0       2             0.000  0.000 \n",
       "    Risk_C Risk_D RiSk_E Risk_F Inherent_Risk CONTROL_RISK Detection_Risk\n",
       "1   1      0.676  0.4    0      8.574         0.4          0.5           \n",
       "2   1      0.188  0.4    0      2.554         0.4          0.5           \n",
       "3   1      0.000  0.4    0      1.548         0.4          0.5           \n",
       "⋮   ⋮      ⋮      ⋮      ⋮      ⋮             ⋮            ⋮             \n",
       "774 1      0.000  0.4    0      1.456         0.4          0.5           \n",
       "775 1      0.000  0.4    0      1.440         0.4          0.5           \n",
       "776 1      0.064  0.4    0      1.464         0.4          0.5           \n",
       "    Audit_Risk Risk\n",
       "1   1.7148     1   \n",
       "2   0.5108     0   \n",
       "3   0.3096     0   \n",
       "⋮   ⋮          ⋮   \n",
       "774 0.2912     0   \n",
       "775 0.2880     0   \n",
       "776 0.2928     0   "
      ]
     },
     "metadata": {},
     "output_type": "display_data"
    }
   ],
   "source": [
    "risk_data <- audit_risk |>\n",
    "                select(LOCATION_ID,Sector_score,Money_Value,History,District_Loss,contains(\"Risk\")) |>\n",
    "                mutate(Sector_score = (Sector_score-mean(Sector_score, na.rm = TRUE))/sd(Sector_score, na.rm = TRUE)) |>\n",
    "                mutate(Money_Value = (Money_Value-mean(Money_Value, na.rm = TRUE))/sd(Money_Value, na.rm = TRUE))\n",
    "risk_data"
   ]
  },
  {
   "cell_type": "code",
   "execution_count": 64,
   "id": "76f1b502-c108-47d7-b82b-b0397485455c",
   "metadata": {},
   "outputs": [
    {
     "name": "stderr",
     "output_type": "stream",
     "text": [
      "Warning message:\n",
      "“Removed 1 rows containing missing values (geom_point).”\n"
     ]
    },
    {
     "data": {
      "image/png": "[encoded data removed]",
      "text/plain": [
       "plot without title"
      ]
     },
     "metadata": {
      "image/png": {
       "height": 420,
       "width": 420
      }
     },
     "output_type": "display_data"
    }
   ],
   "source": [
    "risk_plot <- risk_data |>\n",
    "                ggplot(aes(x = Sector_score, y = Money_Value, color = as_factor(Risk))) +\n",
    "                geom_point() +\n",
    "                labs(x = \"Sectore Score (Standardized)\", y = \"Money Value (Standardized)\", color = \"Risk\") +\n",
    "                theme(text = element_text(size = 20))\n",
    "risk_plot"
   ]
  },
  {
   "cell_type": "code",
   "execution_count": 12,
   "id": "f680687b-c4d6-477f-b8d7-34b69990f4b4",
   "metadata": {},
   "outputs": [
    {
     "data": {
      "text/html": [
       "<table class=\"dataframe\">\n",
       "<caption>A tibble: 2826 × 12</caption>\n",
       "<thead>\n",
       "\t<tr><th scope=col>Sector_score</th><th scope=col>LOCATION_ID</th><th scope=col>Money_Value</th><th scope=col>History</th><th scope=col>District_Loss</th><th scope=col>Inherent_Risk</th><th scope=col>CONTROL_RISK</th><th scope=col>Detection_Risk</th><th scope=col>Audit_Risk</th><th scope=col>Risk</th><th scope=col>Type</th><th scope=col>Value</th></tr>\n",
       "\t<tr><th scope=col>&lt;dbl&gt;</th><th scope=col>&lt;chr&gt;</th><th scope=col>&lt;dbl&gt;</th><th scope=col>&lt;dbl&gt;</th><th scope=col>&lt;dbl&gt;</th><th scope=col>&lt;dbl&gt;</th><th scope=col>&lt;dbl&gt;</th><th scope=col>&lt;dbl&gt;</th><th scope=col>&lt;dbl&gt;</th><th scope=col>&lt;dbl&gt;</th><th scope=col>&lt;chr&gt;</th><th scope=col>&lt;dbl&gt;</th></tr>\n",
       "</thead>\n",
       "<tbody>\n",
       "\t<tr><td>3.89</td><td>6</td><td>0.94</td><td>0</td><td>2</td><td>2.554</td><td>0.4</td><td>0.5</td><td>0.5108</td><td>0</td><td>Risk_A</td><td>0.000</td></tr>\n",
       "\t<tr><td>3.89</td><td>6</td><td>0.94</td><td>0</td><td>2</td><td>2.554</td><td>0.4</td><td>0.5</td><td>0.5108</td><td>0</td><td>Risk_B</td><td>0.966</td></tr>\n",
       "\t<tr><td>3.89</td><td>6</td><td>0.94</td><td>0</td><td>2</td><td>2.554</td><td>0.4</td><td>0.5</td><td>0.5108</td><td>0</td><td>Risk_C</td><td>1.000</td></tr>\n",
       "\t<tr><td>⋮</td><td>⋮</td><td>⋮</td><td>⋮</td><td>⋮</td><td>⋮</td><td>⋮</td><td>⋮</td><td>⋮</td><td>⋮</td><td>⋮</td><td>⋮</td></tr>\n",
       "\t<tr><td>55.57</td><td>15</td><td>0.32</td><td>0</td><td>2</td><td>1.464</td><td>0.4</td><td>0.5</td><td>0.2928</td><td>0</td><td>Risk_D</td><td>0.064</td></tr>\n",
       "\t<tr><td>55.57</td><td>15</td><td>0.32</td><td>0</td><td>2</td><td>1.464</td><td>0.4</td><td>0.5</td><td>0.2928</td><td>0</td><td>RiSk_E</td><td>0.400</td></tr>\n",
       "\t<tr><td>55.57</td><td>15</td><td>0.32</td><td>0</td><td>2</td><td>1.464</td><td>0.4</td><td>0.5</td><td>0.2928</td><td>0</td><td>Risk_F</td><td>0.000</td></tr>\n",
       "</tbody>\n",
       "</table>\n"
      ],
      "text/latex": [
       "A tibble: 2826 × 12\n",
       "\\begin{tabular}{llllllllllll}\n",
       " Sector\\_score & LOCATION\\_ID & Money\\_Value & History & District\\_Loss & Inherent\\_Risk & CONTROL\\_RISK & Detection\\_Risk & Audit\\_Risk & Risk & Type & Value\\\\\n",
       " <dbl> & <chr> & <dbl> & <dbl> & <dbl> & <dbl> & <dbl> & <dbl> & <dbl> & <dbl> & <chr> & <dbl>\\\\\n",
       "\\hline\n",
       "\t 3.89 & 6 & 0.94 & 0 & 2 & 2.554 & 0.4 & 0.5 & 0.5108 & 0 & Risk\\_A & 0.000\\\\\n",
       "\t 3.89 & 6 & 0.94 & 0 & 2 & 2.554 & 0.4 & 0.5 & 0.5108 & 0 & Risk\\_B & 0.966\\\\\n",
       "\t 3.89 & 6 & 0.94 & 0 & 2 & 2.554 & 0.4 & 0.5 & 0.5108 & 0 & Risk\\_C & 1.000\\\\\n",
       "\t ⋮ & ⋮ & ⋮ & ⋮ & ⋮ & ⋮ & ⋮ & ⋮ & ⋮ & ⋮ & ⋮ & ⋮\\\\\n",
       "\t 55.57 & 15 & 0.32 & 0 & 2 & 1.464 & 0.4 & 0.5 & 0.2928 & 0 & Risk\\_D & 0.064\\\\\n",
       "\t 55.57 & 15 & 0.32 & 0 & 2 & 1.464 & 0.4 & 0.5 & 0.2928 & 0 & RiSk\\_E & 0.400\\\\\n",
       "\t 55.57 & 15 & 0.32 & 0 & 2 & 1.464 & 0.4 & 0.5 & 0.2928 & 0 & Risk\\_F & 0.000\\\\\n",
       "\\end{tabular}\n"
      ],
      "text/markdown": [
       "\n",
       "A tibble: 2826 × 12\n",
       "\n",
       "| Sector_score &lt;dbl&gt; | LOCATION_ID &lt;chr&gt; | Money_Value &lt;dbl&gt; | History &lt;dbl&gt; | District_Loss &lt;dbl&gt; | Inherent_Risk &lt;dbl&gt; | CONTROL_RISK &lt;dbl&gt; | Detection_Risk &lt;dbl&gt; | Audit_Risk &lt;dbl&gt; | Risk &lt;dbl&gt; | Type &lt;chr&gt; | Value &lt;dbl&gt; |\n",
       "|---|---|---|---|---|---|---|---|---|---|---|---|\n",
       "| 3.89 | 6 | 0.94 | 0 | 2 | 2.554 | 0.4 | 0.5 | 0.5108 | 0 | Risk_A | 0.000 |\n",
       "| 3.89 | 6 | 0.94 | 0 | 2 | 2.554 | 0.4 | 0.5 | 0.5108 | 0 | Risk_B | 0.966 |\n",
       "| 3.89 | 6 | 0.94 | 0 | 2 | 2.554 | 0.4 | 0.5 | 0.5108 | 0 | Risk_C | 1.000 |\n",
       "| ⋮ | ⋮ | ⋮ | ⋮ | ⋮ | ⋮ | ⋮ | ⋮ | ⋮ | ⋮ | ⋮ | ⋮ |\n",
       "| 55.57 | 15 | 0.32 | 0 | 2 | 1.464 | 0.4 | 0.5 | 0.2928 | 0 | Risk_D | 0.064 |\n",
       "| 55.57 | 15 | 0.32 | 0 | 2 | 1.464 | 0.4 | 0.5 | 0.2928 | 0 | RiSk_E | 0.400 |\n",
       "| 55.57 | 15 | 0.32 | 0 | 2 | 1.464 | 0.4 | 0.5 | 0.2928 | 0 | Risk_F | 0.000 |\n",
       "\n"
      ],
      "text/plain": [
       "     Sector_score LOCATION_ID Money_Value History District_Loss Inherent_Risk\n",
       "1    3.89         6           0.94        0       2             2.554        \n",
       "2    3.89         6           0.94        0       2             2.554        \n",
       "3    3.89         6           0.94        0       2             2.554        \n",
       "⋮    ⋮            ⋮           ⋮           ⋮       ⋮             ⋮            \n",
       "2824 55.57        15          0.32        0       2             1.464        \n",
       "2825 55.57        15          0.32        0       2             1.464        \n",
       "2826 55.57        15          0.32        0       2             1.464        \n",
       "     CONTROL_RISK Detection_Risk Audit_Risk Risk Type   Value\n",
       "1    0.4          0.5            0.5108     0    Risk_A 0.000\n",
       "2    0.4          0.5            0.5108     0    Risk_B 0.966\n",
       "3    0.4          0.5            0.5108     0    Risk_C 1.000\n",
       "⋮    ⋮            ⋮              ⋮          ⋮    ⋮      ⋮    \n",
       "2824 0.4          0.5            0.2928     0    Risk_D 0.064\n",
       "2825 0.4          0.5            0.2928     0    RiSk_E 0.400\n",
       "2826 0.4          0.5            0.2928     0    Risk_F 0.000"
      ]
     },
     "metadata": {},
     "output_type": "display_data"
    }
   ],
   "source": [
    "audit_risk_0 <- audit_risk |>\n",
    "filter(Risk == 0)|>\n",
    "select(Sector_score,LOCATION_ID,Money_Value,History,District_Loss,contains(\"Risk\"))|>\n",
    "pivot_longer(cols=Risk_A:Risk_F,names_to=\"Type\",values_to=\"Value\")\n",
    "\n",
    "audit_risk_0"
   ]
  },
  {
   "cell_type": "markdown",
   "id": "9c96d1e2-9dc6-4477-a32c-05791036627b",
   "metadata": {},
   "source": [
    "Dataset of companies at risk."
   ]
  },
  {
   "cell_type": "code",
   "execution_count": 11,
   "id": "0d8e1299-8732-4383-a807-ef654a8ff341",
   "metadata": {},
   "outputs": [
    {
     "data": {
      "text/html": [
       "<table class=\"dataframe\">\n",
       "<caption>A tibble: 1830 × 12</caption>\n",
       "<thead>\n",
       "\t<tr><th scope=col>Sector_score</th><th scope=col>LOCATION_ID</th><th scope=col>Money_Value</th><th scope=col>History</th><th scope=col>District_Loss</th><th scope=col>Inherent_Risk</th><th scope=col>CONTROL_RISK</th><th scope=col>Detection_Risk</th><th scope=col>Audit_Risk</th><th scope=col>Risk</th><th scope=col>Type</th><th scope=col>Value</th></tr>\n",
       "\t<tr><th scope=col>&lt;dbl&gt;</th><th scope=col>&lt;chr&gt;</th><th scope=col>&lt;dbl&gt;</th><th scope=col>&lt;dbl&gt;</th><th scope=col>&lt;dbl&gt;</th><th scope=col>&lt;dbl&gt;</th><th scope=col>&lt;dbl&gt;</th><th scope=col>&lt;dbl&gt;</th><th scope=col>&lt;dbl&gt;</th><th scope=col>&lt;dbl&gt;</th><th scope=col>&lt;chr&gt;</th><th scope=col>&lt;dbl&gt;</th></tr>\n",
       "</thead>\n",
       "<tbody>\n",
       "\t<tr><td>3.89</td><td>23</td><td>3.38</td><td>0</td><td>2</td><td>8.574</td><td>0.4</td><td>0.5</td><td>1.7148</td><td>1</td><td>Risk_A</td><td>2.508</td></tr>\n",
       "\t<tr><td>3.89</td><td>23</td><td>3.38</td><td>0</td><td>2</td><td>8.574</td><td>0.4</td><td>0.5</td><td>1.7148</td><td>1</td><td>Risk_B</td><td>0.500</td></tr>\n",
       "\t<tr><td>3.89</td><td>23</td><td>3.38</td><td>0</td><td>2</td><td>8.574</td><td>0.4</td><td>0.5</td><td>1.7148</td><td>1</td><td>Risk_C</td><td>1.000</td></tr>\n",
       "\t<tr><td>⋮</td><td>⋮</td><td>⋮</td><td>⋮</td><td>⋮</td><td>⋮</td><td>⋮</td><td>⋮</td><td>⋮</td><td>⋮</td><td>⋮</td><td>⋮</td></tr>\n",
       "\t<tr><td>55.57</td><td>13</td><td>16.09</td><td>0</td><td>2</td><td>12.118</td><td>0.4</td><td>0.5</td><td>2.4236</td><td>1</td><td>Risk_D</td><td>9.654</td></tr>\n",
       "\t<tr><td>55.57</td><td>13</td><td>16.09</td><td>0</td><td>2</td><td>12.118</td><td>0.4</td><td>0.5</td><td>2.4236</td><td>1</td><td>RiSk_E</td><td>0.400</td></tr>\n",
       "\t<tr><td>55.57</td><td>13</td><td>16.09</td><td>0</td><td>2</td><td>12.118</td><td>0.4</td><td>0.5</td><td>2.4236</td><td>1</td><td>Risk_F</td><td>0.000</td></tr>\n",
       "</tbody>\n",
       "</table>\n"
      ],
      "text/latex": [
       "A tibble: 1830 × 12\n",
       "\\begin{tabular}{llllllllllll}\n",
       " Sector\\_score & LOCATION\\_ID & Money\\_Value & History & District\\_Loss & Inherent\\_Risk & CONTROL\\_RISK & Detection\\_Risk & Audit\\_Risk & Risk & Type & Value\\\\\n",
       " <dbl> & <chr> & <dbl> & <dbl> & <dbl> & <dbl> & <dbl> & <dbl> & <dbl> & <dbl> & <chr> & <dbl>\\\\\n",
       "\\hline\n",
       "\t 3.89 & 23 & 3.38 & 0 & 2 & 8.574 & 0.4 & 0.5 & 1.7148 & 1 & Risk\\_A & 2.508\\\\\n",
       "\t 3.89 & 23 & 3.38 & 0 & 2 & 8.574 & 0.4 & 0.5 & 1.7148 & 1 & Risk\\_B & 0.500\\\\\n",
       "\t 3.89 & 23 & 3.38 & 0 & 2 & 8.574 & 0.4 & 0.5 & 1.7148 & 1 & Risk\\_C & 1.000\\\\\n",
       "\t ⋮ & ⋮ & ⋮ & ⋮ & ⋮ & ⋮ & ⋮ & ⋮ & ⋮ & ⋮ & ⋮ & ⋮\\\\\n",
       "\t 55.57 & 13 & 16.09 & 0 & 2 & 12.118 & 0.4 & 0.5 & 2.4236 & 1 & Risk\\_D & 9.654\\\\\n",
       "\t 55.57 & 13 & 16.09 & 0 & 2 & 12.118 & 0.4 & 0.5 & 2.4236 & 1 & RiSk\\_E & 0.400\\\\\n",
       "\t 55.57 & 13 & 16.09 & 0 & 2 & 12.118 & 0.4 & 0.5 & 2.4236 & 1 & Risk\\_F & 0.000\\\\\n",
       "\\end{tabular}\n"
      ],
      "text/markdown": [
       "\n",
       "A tibble: 1830 × 12\n",
       "\n",
       "| Sector_score &lt;dbl&gt; | LOCATION_ID &lt;chr&gt; | Money_Value &lt;dbl&gt; | History &lt;dbl&gt; | District_Loss &lt;dbl&gt; | Inherent_Risk &lt;dbl&gt; | CONTROL_RISK &lt;dbl&gt; | Detection_Risk &lt;dbl&gt; | Audit_Risk &lt;dbl&gt; | Risk &lt;dbl&gt; | Type &lt;chr&gt; | Value &lt;dbl&gt; |\n",
       "|---|---|---|---|---|---|---|---|---|---|---|---|\n",
       "| 3.89 | 23 | 3.38 | 0 | 2 | 8.574 | 0.4 | 0.5 | 1.7148 | 1 | Risk_A | 2.508 |\n",
       "| 3.89 | 23 | 3.38 | 0 | 2 | 8.574 | 0.4 | 0.5 | 1.7148 | 1 | Risk_B | 0.500 |\n",
       "| 3.89 | 23 | 3.38 | 0 | 2 | 8.574 | 0.4 | 0.5 | 1.7148 | 1 | Risk_C | 1.000 |\n",
       "| ⋮ | ⋮ | ⋮ | ⋮ | ⋮ | ⋮ | ⋮ | ⋮ | ⋮ | ⋮ | ⋮ | ⋮ |\n",
       "| 55.57 | 13 | 16.09 | 0 | 2 | 12.118 | 0.4 | 0.5 | 2.4236 | 1 | Risk_D | 9.654 |\n",
       "| 55.57 | 13 | 16.09 | 0 | 2 | 12.118 | 0.4 | 0.5 | 2.4236 | 1 | RiSk_E | 0.400 |\n",
       "| 55.57 | 13 | 16.09 | 0 | 2 | 12.118 | 0.4 | 0.5 | 2.4236 | 1 | Risk_F | 0.000 |\n",
       "\n"
      ],
      "text/plain": [
       "     Sector_score LOCATION_ID Money_Value History District_Loss Inherent_Risk\n",
       "1    3.89         23          3.38        0       2             8.574        \n",
       "2    3.89         23          3.38        0       2             8.574        \n",
       "3    3.89         23          3.38        0       2             8.574        \n",
       "⋮    ⋮            ⋮           ⋮           ⋮       ⋮             ⋮            \n",
       "1828 55.57        13          16.09       0       2             12.118       \n",
       "1829 55.57        13          16.09       0       2             12.118       \n",
       "1830 55.57        13          16.09       0       2             12.118       \n",
       "     CONTROL_RISK Detection_Risk Audit_Risk Risk Type   Value\n",
       "1    0.4          0.5            1.7148     1    Risk_A 2.508\n",
       "2    0.4          0.5            1.7148     1    Risk_B 0.500\n",
       "3    0.4          0.5            1.7148     1    Risk_C 1.000\n",
       "⋮    ⋮            ⋮              ⋮          ⋮    ⋮      ⋮    \n",
       "1828 0.4          0.5            2.4236     1    Risk_D 9.654\n",
       "1829 0.4          0.5            2.4236     1    RiSk_E 0.400\n",
       "1830 0.4          0.5            2.4236     1    Risk_F 0.000"
      ]
     },
     "metadata": {},
     "output_type": "display_data"
    }
   ],
   "source": [
    "audit_risk_1 <- audit_risk |>\n",
    "filter(Risk == 1)|>\n",
    "select(Sector_score,LOCATION_ID,Money_Value,History,District_Loss,contains(\"Risk\"))|>\n",
    "pivot_longer(cols=Risk_A:Risk_F,names_to=\"Type\",values_to=\"Value\")\n",
    "\n",
    "audit_risk_1\n"
   ]
  },
  {
   "cell_type": "code",
   "execution_count": null,
   "id": "786c09b0-a027-4cbb-8f9f-fc72e38286b8",
   "metadata": {},
   "outputs": [],
   "source": []
  }
 ],
 "metadata": {
  "kernelspec": {
   "display_name": "R",
   "language": "R",
   "name": "ir"
  },
  "language_info": {
   "codemirror_mode": "r",
   "file_extension": ".r",
   "mimetype": "text/x-r-source",
   "name": "R",
   "pygments_lexer": "r",
   "version": "4.1.3"
  }
 },
 "nbformat": 4,
 "nbformat_minor": 5
}
